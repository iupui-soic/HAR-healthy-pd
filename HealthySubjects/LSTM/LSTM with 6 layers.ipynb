{
 "cells": [
  {
   "cell_type": "code",
   "execution_count": 1,
   "id": "de1c58b4",
   "metadata": {},
   "outputs": [],
   "source": [
    "import numpy as np\n",
    "import pandas as pd\n",
    "import seaborn as sns \n",
    "import matplotlib.pyplot as plt \n",
    "import sklearn\n",
    "from sklearn.model_selection import train_test_split\n",
    "from sklearn.preprocessing import LabelEncoder\n",
    "from sklearn.tree import DecisionTreeClassifier, export_graphviz\n",
    "from sklearn.metrics import classification_report, confusion_matrix, precision_recall_curve, auc, roc_curve\n",
    "from sklearn.preprocessing import RobustScaler\n",
    "import time\n",
    "import pickle\n",
    "import os\n",
    "\n",
    "import warnings\n",
    "warnings.filterwarnings('ignore')"
   ]
  },
  {
   "cell_type": "code",
   "execution_count": 2,
   "id": "3b454009",
   "metadata": {},
   "outputs": [],
   "source": [
    "#reading csv file for the filtered data\n",
    "columns = [\"AccelX(g)_leg\",\"AccelY(g)_leg\",\"AccelZ(g)_leg\",\"GyroX(¬∞/s)_leg\",\"GyroY(¬∞/s)_leg\",\"GyroZ(¬∞/s)_leg\",\"AccelX(g)_hand\",\"AccelY(g)_hand\",\"AccelZ(g)_hand\",\"GyroX(¬∞/s)_hand\",\"GyroY(¬∞/s)_hand\",\"GyroZ(¬∞/s)_hand\",\"AccelX(g)_chest\",\"AccelY(g)_chest\",\"AccelZ(g)_chest\",\"Sample(V)\",\"Activity_Label\"]\n",
    "df = pd.read_csv(\"resampled_data.csv\", header=0, names = columns)"
   ]
  },
  {
   "cell_type": "code",
   "execution_count": 3,
   "id": "f32c798b",
   "metadata": {},
   "outputs": [],
   "source": [
    "PredictorCol=['AccelX(g)_leg', 'AccelY(g)_leg', 'AccelZ(g)_leg', 'GyroX(¬∞/s)_leg',\n",
    "       'GyroY(¬∞/s)_leg', 'GyroZ(¬∞/s)_leg', 'AccelX(g)_hand',\n",
    "       'AccelY(g)_hand', 'AccelZ(g)_hand', 'GyroX(¬∞/s)_hand',\n",
    "       'GyroY(¬∞/s)_hand', 'GyroZ(¬∞/s)_hand', 'AccelX(g)_chest',\n",
    "       'AccelY(g)_chest', 'AccelZ(g)_chest', 'Sample(V)']\n",
    "TargetCol= 'Activity_Label'\n",
    "\n",
    "X = df[PredictorCol].values\n",
    "y = df[TargetCol].values"
   ]
  },
  {
   "cell_type": "code",
   "execution_count": 4,
   "id": "7e21161b",
   "metadata": {},
   "outputs": [],
   "source": [
    "X_train_sm, X_test_sm, y_train_sm, y_test_sm = train_test_split(X, y, test_size=0.30, \n",
    "                                                    random_state=15, \n",
    "                                                    stratify = None)"
   ]
  },
  {
   "cell_type": "code",
   "execution_count": 6,
   "id": "f79c4bfa",
   "metadata": {},
   "outputs": [
    {
     "name": "stdout",
     "output_type": "stream",
     "text": [
      "Epoch 1/10\n",
      "92224/92224 [==============================] - 263s 3ms/step - loss: 0.8962 - accuracy: 0.6978\n",
      "Epoch 2/10\n",
      "92224/92224 [==============================] - 265s 3ms/step - loss: 0.6694 - accuracy: 0.7714\n",
      "Epoch 3/10\n",
      "92224/92224 [==============================] - 267s 3ms/step - loss: 0.6189 - accuracy: 0.7890\n",
      "Epoch 4/10\n",
      "92224/92224 [==============================] - 267s 3ms/step - loss: 0.5929 - accuracy: 0.7978\n",
      "Epoch 5/10\n",
      "92224/92224 [==============================] - 268s 3ms/step - loss: 0.5759 - accuracy: 0.8033\n",
      "Epoch 6/10\n",
      "92224/92224 [==============================] - 268s 3ms/step - loss: 0.5647 - accuracy: 0.8072\n",
      "Epoch 7/10\n",
      "92224/92224 [==============================] - 269s 3ms/step - loss: 0.5562 - accuracy: 0.8097\n",
      "Epoch 8/10\n",
      "92224/92224 [==============================] - 270s 3ms/step - loss: 0.5496 - accuracy: 0.8122\n",
      "Epoch 9/10\n",
      "92224/92224 [==============================] - 271s 3ms/step - loss: 0.5438 - accuracy: 0.8140\n",
      "Epoch 10/10\n",
      "92224/92224 [==============================] - 271s 3ms/step - loss: 0.5390 - accuracy: 0.8151\n",
      "39525/39525 [==============================] - 48s 1ms/step - loss: 0.5495 - accuracy: 0.8127\n",
      "Test Accuracy: 0.8127169013023376\n"
     ]
    }
   ],
   "source": [
    "from keras.layers import LSTM, Dense\n",
    "from keras.models import Sequential\n",
    "\n",
    "# Reshape the data for LSTM\n",
    "X_train_sm = np.reshape(X_train_sm, (X_train_sm.shape[0], 1, X_train_sm.shape[1]))\n",
    "X_test_sm = np.reshape(X_test_sm, (X_test_sm.shape[0], 1, X_test_sm.shape[1]))\n",
    "\n",
    "# Initialize the LSTM model\n",
    "model = Sequential()\n",
    "model.add(LSTM(128, input_shape=(1, X_train_sm.shape[2]), return_sequences=True))\n",
    "model.add(LSTM(64, return_sequences=True))\n",
    "model.add(LSTM(32, return_sequences=False))\n",
    "model.add(Dense(16, activation='relu'))\n",
    "model.add(Dense(len(np.unique(y)), activation='softmax'))\n",
    "\n",
    "# Compile the model\n",
    "model.compile(loss='sparse_categorical_crossentropy', optimizer='adam', metrics=['accuracy'])\n",
    "\n",
    "# Train the model\n",
    "model.fit(X_train_sm, y_train_sm, epochs=10, batch_size=32)\n",
    "\n",
    "# Evaluate the model on the test data\n",
    "test_loss, test_accuracy = model.evaluate(X_test_sm, y_test_sm)\n",
    "\n",
    "print(\"Test Accuracy:\", test_accuracy)\n"
   ]
  },
  {
   "cell_type": "code",
   "execution_count": 7,
   "id": "c3b00db4",
   "metadata": {},
   "outputs": [],
   "source": [
    "model.save(\"model.h5\")"
   ]
  },
  {
   "cell_type": "code",
   "execution_count": 8,
   "id": "ac7c4262",
   "metadata": {},
   "outputs": [
    {
     "name": "stdout",
     "output_type": "stream",
     "text": [
      "Keras weights file (<HDF5 file \"variables.h5\" (mode r+)>) saving:\n",
      "...layers\n",
      "......dense\n",
      ".........vars\n",
      "............0\n",
      "............1\n",
      "......dense_1\n",
      ".........vars\n",
      "............0\n",
      "............1\n",
      "......lstm\n",
      ".........cell\n",
      "............vars\n",
      "...............0\n",
      "...............1\n",
      "...............2\n",
      ".........vars\n",
      "......lstm_1\n",
      ".........cell\n",
      "............vars\n",
      "...............0\n",
      "...............1\n",
      "...............2\n",
      ".........vars\n",
      "......lstm_2\n",
      ".........cell\n",
      "............vars\n",
      "...............0\n",
      "...............1\n",
      "...............2\n",
      ".........vars\n",
      "...metrics\n",
      "......mean\n",
      ".........vars\n",
      "............0\n",
      "............1\n",
      "......mean_metric_wrapper\n",
      ".........vars\n",
      "............0\n",
      "............1\n",
      "...optimizer\n",
      "......vars\n",
      ".........0\n",
      ".........1\n",
      ".........10\n",
      ".........11\n",
      ".........12\n",
      ".........13\n",
      ".........14\n",
      ".........15\n",
      ".........16\n",
      ".........17\n",
      ".........18\n",
      ".........19\n",
      ".........2\n",
      ".........20\n",
      ".........21\n",
      ".........22\n",
      ".........23\n",
      ".........24\n",
      ".........25\n",
      ".........26\n",
      ".........3\n",
      ".........4\n",
      ".........5\n",
      ".........6\n",
      ".........7\n",
      ".........8\n",
      ".........9\n",
      "...vars\n",
      "Keras model archive saving:\n",
      "File Name                                             Modified             Size\n",
      "config.json                                    2023-02-06 18:55:40         3913\n",
      "variables.h5                                   2023-02-06 18:55:40      1687920\n",
      "metadata.json                                  2023-02-06 18:55:40           64\n"
     ]
    }
   ],
   "source": [
    "import pickle\n",
    "\n",
    "# Save model architecture to a file\n",
    "with open('LSTMmodel_architecture.pkl', 'wb') as f:\n",
    "    pickle.dump(model, f)\n",
    "\n",
    "# Save model weights to a file\n",
    "with open('LSTMmodel_weights.pkl', 'wb') as f:\n",
    "    pickle.dump(model.get_weights(), f)"
   ]
  },
  {
   "cell_type": "markdown",
   "id": "39048ae0",
   "metadata": {},
   "source": [
    "#To load the pickled model, you can use the following code:\n",
    "\n",
    "import pickle\n",
    "\n",
    "# Load model architecture\n",
    "with open('model_architecture.pkl', 'rb') as f:\n",
    "    model = pickle.load(f)\n",
    "\n",
    "# Load model weights\n",
    "with open('model_weights.pkl', 'rb') as f:\n",
    "    model.set_weights(pickle.load(f))\n",
    "\n",
    "\n"
   ]
  }
 ],
 "metadata": {
  "kernelspec": {
   "display_name": "Python 3 (ipykernel)",
   "language": "python",
   "name": "python3"
  },
  "language_info": {
   "codemirror_mode": {
    "name": "ipython",
    "version": 3
   },
   "file_extension": ".py",
   "mimetype": "text/x-python",
   "name": "python",
   "nbconvert_exporter": "python",
   "pygments_lexer": "ipython3",
   "version": "3.9.7"
  }
 },
 "nbformat": 4,
 "nbformat_minor": 5
}
