{
 "cells": [
  {
   "cell_type": "code",
   "execution_count": 3,
   "metadata": {},
   "outputs": [],
   "source": [
    "import pandas as pd\n",
    "import numpy as np\n",
    "import matplotlib.pyplot as plt\n",
    "import time"
   ]
  },
  {
   "cell_type": "code",
   "execution_count": 4,
   "metadata": {},
   "outputs": [],
   "source": [
    "accel = pd.read_csv('/Users/shreyasaswar/HARDataset/EXTRACTION/Sub06/Chest/cleaned data/final_cleaned_chest_accel.csv-sub06')\n",
    "elec = pd.read_csv('/Users/shreyasaswar/HARDataset/EXTRACTION/Sub06/Chest/cleaned data/final_cleaned_chest_elec.csv-sub06')"
   ]
  },
  {
   "cell_type": "code",
   "execution_count": 5,
   "metadata": {},
   "outputs": [
    {
     "data": {
      "text/html": [
       "<div>\n",
       "<style scoped>\n",
       "    .dataframe tbody tr th:only-of-type {\n",
       "        vertical-align: middle;\n",
       "    }\n",
       "\n",
       "    .dataframe tbody tr th {\n",
       "        vertical-align: top;\n",
       "    }\n",
       "\n",
       "    .dataframe thead th {\n",
       "        text-align: right;\n",
       "    }\n",
       "</style>\n",
       "<table border=\"1\" class=\"dataframe\">\n",
       "  <thead>\n",
       "    <tr style=\"text-align: right;\">\n",
       "      <th></th>\n",
       "      <th>Unnamed: 0</th>\n",
       "      <th>Timestamp (microseconds)</th>\n",
       "      <th>Accel X (g)</th>\n",
       "      <th>Accel Y (g)</th>\n",
       "      <th>Accel Z (g)</th>\n",
       "      <th>Activity_Label</th>\n",
       "    </tr>\n",
       "  </thead>\n",
       "  <tbody>\n",
       "    <tr>\n",
       "      <th>0</th>\n",
       "      <td>0</td>\n",
       "      <td>1614702011026581</td>\n",
       "      <td>-0.017517</td>\n",
       "      <td>0.931716</td>\n",
       "      <td>0.479072</td>\n",
       "      <td>Forward and backward step</td>\n",
       "    </tr>\n",
       "    <tr>\n",
       "      <th>1</th>\n",
       "      <td>1</td>\n",
       "      <td>1614702011058483</td>\n",
       "      <td>-0.059998</td>\n",
       "      <td>0.773999</td>\n",
       "      <td>0.388739</td>\n",
       "      <td>Forward and backward step</td>\n",
       "    </tr>\n",
       "    <tr>\n",
       "      <th>2</th>\n",
       "      <td>2</td>\n",
       "      <td>1614702011090384</td>\n",
       "      <td>-0.116152</td>\n",
       "      <td>0.834058</td>\n",
       "      <td>0.380926</td>\n",
       "      <td>Forward and backward step</td>\n",
       "    </tr>\n",
       "    <tr>\n",
       "      <th>3</th>\n",
       "      <td>3</td>\n",
       "      <td>1614702011122285</td>\n",
       "      <td>-0.118105</td>\n",
       "      <td>0.801831</td>\n",
       "      <td>0.695384</td>\n",
       "      <td>Forward and backward step</td>\n",
       "    </tr>\n",
       "    <tr>\n",
       "      <th>4</th>\n",
       "      <td>4</td>\n",
       "      <td>1614702011154187</td>\n",
       "      <td>-0.200137</td>\n",
       "      <td>0.786694</td>\n",
       "      <td>0.523995</td>\n",
       "      <td>Forward and backward step</td>\n",
       "    </tr>\n",
       "    <tr>\n",
       "      <th>...</th>\n",
       "      <td>...</td>\n",
       "      <td>...</td>\n",
       "      <td>...</td>\n",
       "      <td>...</td>\n",
       "      <td>...</td>\n",
       "      <td>...</td>\n",
       "    </tr>\n",
       "    <tr>\n",
       "      <th>54119</th>\n",
       "      <td>54119</td>\n",
       "      <td>1614707345860589</td>\n",
       "      <td>0.351629</td>\n",
       "      <td>0.691966</td>\n",
       "      <td>-0.248966</td>\n",
       "      <td>Punch_down_Up_Hooks</td>\n",
       "    </tr>\n",
       "    <tr>\n",
       "      <th>54120</th>\n",
       "      <td>54120</td>\n",
       "      <td>1614707345892594</td>\n",
       "      <td>-0.349065</td>\n",
       "      <td>1.952239</td>\n",
       "      <td>-0.161074</td>\n",
       "      <td>Punch_down_Up_Hooks</td>\n",
       "    </tr>\n",
       "    <tr>\n",
       "      <th>54121</th>\n",
       "      <td>54121</td>\n",
       "      <td>1614707345924600</td>\n",
       "      <td>-0.273381</td>\n",
       "      <td>1.595300</td>\n",
       "      <td>1.466880</td>\n",
       "      <td>Punch_down_Up_Hooks</td>\n",
       "    </tr>\n",
       "    <tr>\n",
       "      <th>54122</th>\n",
       "      <td>54122</td>\n",
       "      <td>1614707345956606</td>\n",
       "      <td>-0.307561</td>\n",
       "      <td>1.123125</td>\n",
       "      <td>0.327214</td>\n",
       "      <td>Punch_down_Up_Hooks</td>\n",
       "    </tr>\n",
       "    <tr>\n",
       "      <th>54123</th>\n",
       "      <td>54123</td>\n",
       "      <td>1614707345988612</td>\n",
       "      <td>-0.601511</td>\n",
       "      <td>0.884352</td>\n",
       "      <td>0.373114</td>\n",
       "      <td>Punch_down_Up_Hooks</td>\n",
       "    </tr>\n",
       "  </tbody>\n",
       "</table>\n",
       "<p>54124 rows × 6 columns</p>\n",
       "</div>"
      ],
      "text/plain": [
       "       Unnamed: 0  Timestamp (microseconds)  Accel X (g)  Accel Y (g)  \\\n",
       "0               0          1614702011026581    -0.017517     0.931716   \n",
       "1               1          1614702011058483    -0.059998     0.773999   \n",
       "2               2          1614702011090384    -0.116152     0.834058   \n",
       "3               3          1614702011122285    -0.118105     0.801831   \n",
       "4               4          1614702011154187    -0.200137     0.786694   \n",
       "...           ...                       ...          ...          ...   \n",
       "54119       54119          1614707345860589     0.351629     0.691966   \n",
       "54120       54120          1614707345892594    -0.349065     1.952239   \n",
       "54121       54121          1614707345924600    -0.273381     1.595300   \n",
       "54122       54122          1614707345956606    -0.307561     1.123125   \n",
       "54123       54123          1614707345988612    -0.601511     0.884352   \n",
       "\n",
       "       Accel Z (g)             Activity_Label  \n",
       "0         0.479072  Forward and backward step  \n",
       "1         0.388739  Forward and backward step  \n",
       "2         0.380926  Forward and backward step  \n",
       "3         0.695384  Forward and backward step  \n",
       "4         0.523995  Forward and backward step  \n",
       "...            ...                        ...  \n",
       "54119    -0.248966        Punch_down_Up_Hooks  \n",
       "54120    -0.161074        Punch_down_Up_Hooks  \n",
       "54121     1.466880        Punch_down_Up_Hooks  \n",
       "54122     0.327214        Punch_down_Up_Hooks  \n",
       "54123     0.373114        Punch_down_Up_Hooks  \n",
       "\n",
       "[54124 rows x 6 columns]"
      ]
     },
     "execution_count": 5,
     "metadata": {},
     "output_type": "execute_result"
    }
   ],
   "source": [
    "accel"
   ]
  },
  {
   "cell_type": "code",
   "execution_count": 6,
   "metadata": {},
   "outputs": [
    {
     "data": {
      "text/html": [
       "<div>\n",
       "<style scoped>\n",
       "    .dataframe tbody tr th:only-of-type {\n",
       "        vertical-align: middle;\n",
       "    }\n",
       "\n",
       "    .dataframe tbody tr th {\n",
       "        vertical-align: top;\n",
       "    }\n",
       "\n",
       "    .dataframe thead th {\n",
       "        text-align: right;\n",
       "    }\n",
       "</style>\n",
       "<table border=\"1\" class=\"dataframe\">\n",
       "  <thead>\n",
       "    <tr style=\"text-align: right;\">\n",
       "      <th></th>\n",
       "      <th>Unnamed: 0</th>\n",
       "      <th>Timestamp (microseconds)</th>\n",
       "      <th>Sample (V)</th>\n",
       "      <th>Activity_Label</th>\n",
       "    </tr>\n",
       "  </thead>\n",
       "  <tbody>\n",
       "    <tr>\n",
       "      <th>0</th>\n",
       "      <td>0</td>\n",
       "      <td>1614702011002789</td>\n",
       "      <td>0.002071</td>\n",
       "      <td>Forward and backward step</td>\n",
       "    </tr>\n",
       "    <tr>\n",
       "      <th>1</th>\n",
       "      <td>1</td>\n",
       "      <td>1614702011006797</td>\n",
       "      <td>0.002071</td>\n",
       "      <td>Forward and backward step</td>\n",
       "    </tr>\n",
       "    <tr>\n",
       "      <th>2</th>\n",
       "      <td>2</td>\n",
       "      <td>1614702011010806</td>\n",
       "      <td>0.002065</td>\n",
       "      <td>Forward and backward step</td>\n",
       "    </tr>\n",
       "    <tr>\n",
       "      <th>3</th>\n",
       "      <td>3</td>\n",
       "      <td>1614702011014814</td>\n",
       "      <td>0.002065</td>\n",
       "      <td>Forward and backward step</td>\n",
       "    </tr>\n",
       "    <tr>\n",
       "      <th>4</th>\n",
       "      <td>4</td>\n",
       "      <td>1614702011018822</td>\n",
       "      <td>0.002059</td>\n",
       "      <td>Forward and backward step</td>\n",
       "    </tr>\n",
       "    <tr>\n",
       "      <th>...</th>\n",
       "      <td>...</td>\n",
       "      <td>...</td>\n",
       "      <td>...</td>\n",
       "      <td>...</td>\n",
       "    </tr>\n",
       "    <tr>\n",
       "      <th>431661</th>\n",
       "      <td>431661</td>\n",
       "      <td>1614707345980592</td>\n",
       "      <td>0.002569</td>\n",
       "      <td>Punch_down_Up_Hooks</td>\n",
       "    </tr>\n",
       "    <tr>\n",
       "      <th>431662</th>\n",
       "      <td>431662</td>\n",
       "      <td>1614707345984600</td>\n",
       "      <td>0.002539</td>\n",
       "      <td>Punch_down_Up_Hooks</td>\n",
       "    </tr>\n",
       "    <tr>\n",
       "      <th>431663</th>\n",
       "      <td>431663</td>\n",
       "      <td>1614707345988607</td>\n",
       "      <td>0.002428</td>\n",
       "      <td>Punch_down_Up_Hooks</td>\n",
       "    </tr>\n",
       "    <tr>\n",
       "      <th>431664</th>\n",
       "      <td>431664</td>\n",
       "      <td>1614707345992614</td>\n",
       "      <td>0.002299</td>\n",
       "      <td>Punch_down_Up_Hooks</td>\n",
       "    </tr>\n",
       "    <tr>\n",
       "      <th>431665</th>\n",
       "      <td>431665</td>\n",
       "      <td>1614707345996622</td>\n",
       "      <td>0.002237</td>\n",
       "      <td>Punch_down_Up_Hooks</td>\n",
       "    </tr>\n",
       "  </tbody>\n",
       "</table>\n",
       "<p>431666 rows × 4 columns</p>\n",
       "</div>"
      ],
      "text/plain": [
       "        Unnamed: 0  Timestamp (microseconds)  Sample (V)  \\\n",
       "0                0          1614702011002789    0.002071   \n",
       "1                1          1614702011006797    0.002071   \n",
       "2                2          1614702011010806    0.002065   \n",
       "3                3          1614702011014814    0.002065   \n",
       "4                4          1614702011018822    0.002059   \n",
       "...            ...                       ...         ...   \n",
       "431661      431661          1614707345980592    0.002569   \n",
       "431662      431662          1614707345984600    0.002539   \n",
       "431663      431663          1614707345988607    0.002428   \n",
       "431664      431664          1614707345992614    0.002299   \n",
       "431665      431665          1614707345996622    0.002237   \n",
       "\n",
       "                   Activity_Label  \n",
       "0       Forward and backward step  \n",
       "1       Forward and backward step  \n",
       "2       Forward and backward step  \n",
       "3       Forward and backward step  \n",
       "4       Forward and backward step  \n",
       "...                           ...  \n",
       "431661        Punch_down_Up_Hooks  \n",
       "431662        Punch_down_Up_Hooks  \n",
       "431663        Punch_down_Up_Hooks  \n",
       "431664        Punch_down_Up_Hooks  \n",
       "431665        Punch_down_Up_Hooks  \n",
       "\n",
       "[431666 rows x 4 columns]"
      ]
     },
     "execution_count": 6,
     "metadata": {},
     "output_type": "execute_result"
    }
   ],
   "source": [
    "elec"
   ]
  },
  {
   "cell_type": "code",
   "execution_count": 7,
   "metadata": {},
   "outputs": [],
   "source": [
    "elec_ts = elec['Timestamp (microseconds)'].to_numpy()"
   ]
  },
  {
   "cell_type": "code",
   "execution_count": 8,
   "metadata": {},
   "outputs": [
    {
     "data": {
      "text/plain": [
       "array([1614702011002789, 1614702011006797, 1614702011010806, ...,\n",
       "       1614707345988607, 1614707345992614, 1614707345996622])"
      ]
     },
     "execution_count": 8,
     "metadata": {},
     "output_type": "execute_result"
    }
   ],
   "source": [
    "elec_ts"
   ]
  },
  {
   "cell_type": "code",
   "execution_count": 9,
   "metadata": {},
   "outputs": [],
   "source": [
    "accel_ts = accel['Timestamp (microseconds)'].to_numpy()"
   ]
  },
  {
   "cell_type": "code",
   "execution_count": 10,
   "metadata": {},
   "outputs": [
    {
     "data": {
      "text/plain": [
       "array([1614702011026581, 1614702011058483, 1614702011090384, ...,\n",
       "       1614707345924600, 1614707345956606, 1614707345988612])"
      ]
     },
     "execution_count": 10,
     "metadata": {},
     "output_type": "execute_result"
    }
   ],
   "source": [
    "accel_ts"
   ]
  },
  {
   "cell_type": "code",
   "execution_count": null,
   "metadata": {},
   "outputs": [],
   "source": [
    "for i in range(len(accel_ts)):\n",
    "    accel.at[i, 'Sample (V)'] = elec['Sample (V)'].iloc[np.argmin(abs(accel_ts[i] - elec_ts))]"
   ]
  },
  {
   "cell_type": "code",
   "execution_count": null,
   "metadata": {},
   "outputs": [],
   "source": [
    "accel"
   ]
  },
  {
   "cell_type": "code",
   "execution_count": null,
   "metadata": {},
   "outputs": [],
   "source": [
    "ts = accel['Timestamp (microseconds)'].to_numpy()\n",
    "ts1 = ((ts - ts[0])*1e-6)"
   ]
  },
  {
   "cell_type": "code",
   "execution_count": null,
   "metadata": {},
   "outputs": [],
   "source": [
    "accel['Time_elapse'] = ts1.tolist()"
   ]
  },
  {
   "cell_type": "code",
   "execution_count": null,
   "metadata": {},
   "outputs": [],
   "source": [
    "accel"
   ]
  },
  {
   "cell_type": "code",
   "execution_count": null,
   "metadata": {},
   "outputs": [],
   "source": [
    "accel.drop(['Unnamed: 0'], axis = 1, inplace = True)"
   ]
  },
  {
   "cell_type": "code",
   "execution_count": null,
   "metadata": {},
   "outputs": [],
   "source": [
    "accel"
   ]
  },
  {
   "cell_type": "code",
   "execution_count": null,
   "metadata": {},
   "outputs": [],
   "source": [
    "#accel.to_csv('sub01_chest_accel+elec.csv', index = False)"
   ]
  },
  {
   "cell_type": "code",
   "execution_count": null,
   "metadata": {},
   "outputs": [],
   "source": [
    "# accel.drop(['Timestamp (microseconds)'], axis = 1, inplace = True)\n",
    "#accel"
   ]
  },
  {
   "cell_type": "code",
   "execution_count": null,
   "metadata": {},
   "outputs": [],
   "source": [
    "accel.to_csv('sub06_chest_accel+elec.csv', index = False)"
   ]
  },
  {
   "cell_type": "code",
   "execution_count": null,
   "metadata": {},
   "outputs": [],
   "source": []
  }
 ],
 "metadata": {
  "kernelspec": {
   "display_name": "Python 3 (ipykernel)",
   "language": "python",
   "name": "python3"
  },
  "language_info": {
   "codemirror_mode": {
    "name": "ipython",
    "version": 3
   },
   "file_extension": ".py",
   "mimetype": "text/x-python",
   "name": "python",
   "nbconvert_exporter": "python",
   "pygments_lexer": "ipython3",
   "version": "3.9.13"
  }
 },
 "nbformat": 4,
 "nbformat_minor": 4
}
