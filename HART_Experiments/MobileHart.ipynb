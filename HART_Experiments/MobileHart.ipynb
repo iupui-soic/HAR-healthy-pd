{
 "cells": [
  {
   "cell_type": "code",
   "execution_count": 44,
   "id": "8a6d5c39",
   "metadata": {},
   "outputs": [],
   "source": [
    "## experiments on MobileHART model using non-PD and PD datasets"
   ]
  },
  {
   "cell_type": "code",
   "execution_count": 1,
   "id": "a4041eb7-c4dc-4f28-81bf-4c16f4f13216",
   "metadata": {},
   "outputs": [
    {
     "name": "stderr",
     "output_type": "stream",
     "text": [
      "2024-02-28 23:25:39.387249: E external/local_xla/xla/stream_executor/cuda/cuda_dnn.cc:9261] Unable to register cuDNN factory: Attempting to register factory for plugin cuDNN when one has already been registered\n",
      "2024-02-28 23:25:39.387274: E external/local_xla/xla/stream_executor/cuda/cuda_fft.cc:607] Unable to register cuFFT factory: Attempting to register factory for plugin cuFFT when one has already been registered\n",
      "2024-02-28 23:25:39.388057: E external/local_xla/xla/stream_executor/cuda/cuda_blas.cc:1515] Unable to register cuBLAS factory: Attempting to register factory for plugin cuBLAS when one has already been registered\n",
      "2024-02-28 23:25:39.391986: I tensorflow/core/platform/cpu_feature_guard.cc:182] This TensorFlow binary is optimized to use available CPU instructions in performance-critical operations.\n",
      "To enable the following instructions: AVX2 FMA, in other operations, rebuild TensorFlow with the appropriate compiler flags.\n",
      "2024-02-28 23:25:39.848992: W tensorflow/compiler/tf2tensorrt/utils/py_utils.cc:38] TF-TRT Warning: Could not find TensorRT\n"
     ]
    }
   ],
   "source": [
    "import pandas as pd\n",
    "import numpy as np\n",
    "import model\n",
    "from sklearn.model_selection import train_test_split\n",
    "import tensorflow as tf\n",
    "from tensorflow import keras\n",
    "from sklearn.metrics import classification_report\n",
    "from collections import defaultdict\n"
   ]
  },
  {
   "cell_type": "code",
   "execution_count": 2,
   "id": "9c70a6f9-25b7-403b-af20-a44a47048297",
   "metadata": {},
   "outputs": [],
   "source": [
    "#read and load data\n",
    "columns = [\"AccelX(g)_leg\",\"AccelY(g)_leg\",\"AccelZ(g)_leg\",\"GyroX(¬∞/s)_leg\",\"GyroY(¬∞/s)_leg\",\"GyroZ(¬∞/s)_leg\",\"AccelX(g)_hand\",\"AccelY(g)_hand\",\"AccelZ(g)_hand\",\"GyroX(¬∞/s)_hand\",\"GyroY(¬∞/s)_hand\",\"GyroZ(¬∞/s)_hand\",\"AccelX(g)_chest\",\"AccelY(g)_chest\",\"AccelZ(g)_chest\",\"Sample(V)\",\"Activity_Label\"]\n",
    "df = pd.read_csv(\"/home/jupyter-saswar/HealthySubs_Modeling/healthy_smote.csv\", header=0, names=columns)\n"
   ]
  },
  {
   "cell_type": "code",
   "execution_count": 3,
   "id": "78174d91",
   "metadata": {},
   "outputs": [],
   "source": [
    "#factorize labels\n",
    "labels = pd.factorize(df['Activity_Label'])[0]\n",
    "\n",
    "#removing target variable\n",
    "feature_columns = df.columns[:-1] \n",
    "data = df[feature_columns].values"
   ]
  },
  {
   "cell_type": "code",
   "execution_count": 4,
   "id": "4557a792-ca16-40b0-8253-257a850d1e8c",
   "metadata": {},
   "outputs": [
    {
     "name": "stderr",
     "output_type": "stream",
     "text": [
      "2024-02-28 23:26:01.936418: I external/local_xla/xla/stream_executor/cuda/cuda_executor.cc:901] successful NUMA node read from SysFS had negative value (-1), but there must be at least one NUMA node, so returning NUMA node zero. See more at https://github.com/torvalds/linux/blob/v6.0/Documentation/ABI/testing/sysfs-bus-pci#L344-L355\n",
      "2024-02-28 23:26:01.936624: I external/local_xla/xla/stream_executor/cuda/cuda_executor.cc:901] successful NUMA node read from SysFS had negative value (-1), but there must be at least one NUMA node, so returning NUMA node zero. See more at https://github.com/torvalds/linux/blob/v6.0/Documentation/ABI/testing/sysfs-bus-pci#L344-L355\n",
      "2024-02-28 23:26:01.956561: I external/local_xla/xla/stream_executor/cuda/cuda_executor.cc:901] successful NUMA node read from SysFS had negative value (-1), but there must be at least one NUMA node, so returning NUMA node zero. See more at https://github.com/torvalds/linux/blob/v6.0/Documentation/ABI/testing/sysfs-bus-pci#L344-L355\n",
      "2024-02-28 23:26:01.956768: I external/local_xla/xla/stream_executor/cuda/cuda_executor.cc:901] successful NUMA node read from SysFS had negative value (-1), but there must be at least one NUMA node, so returning NUMA node zero. See more at https://github.com/torvalds/linux/blob/v6.0/Documentation/ABI/testing/sysfs-bus-pci#L344-L355\n",
      "2024-02-28 23:26:01.956921: I external/local_xla/xla/stream_executor/cuda/cuda_executor.cc:901] successful NUMA node read from SysFS had negative value (-1), but there must be at least one NUMA node, so returning NUMA node zero. See more at https://github.com/torvalds/linux/blob/v6.0/Documentation/ABI/testing/sysfs-bus-pci#L344-L355\n",
      "2024-02-28 23:26:01.957069: I external/local_xla/xla/stream_executor/cuda/cuda_executor.cc:901] successful NUMA node read from SysFS had negative value (-1), but there must be at least one NUMA node, so returning NUMA node zero. See more at https://github.com/torvalds/linux/blob/v6.0/Documentation/ABI/testing/sysfs-bus-pci#L344-L355\n",
      "2024-02-28 23:26:02.030788: I external/local_xla/xla/stream_executor/cuda/cuda_executor.cc:901] successful NUMA node read from SysFS had negative value (-1), but there must be at least one NUMA node, so returning NUMA node zero. See more at https://github.com/torvalds/linux/blob/v6.0/Documentation/ABI/testing/sysfs-bus-pci#L344-L355\n",
      "2024-02-28 23:26:02.030981: I external/local_xla/xla/stream_executor/cuda/cuda_executor.cc:901] successful NUMA node read from SysFS had negative value (-1), but there must be at least one NUMA node, so returning NUMA node zero. See more at https://github.com/torvalds/linux/blob/v6.0/Documentation/ABI/testing/sysfs-bus-pci#L344-L355\n",
      "2024-02-28 23:26:02.031141: I external/local_xla/xla/stream_executor/cuda/cuda_executor.cc:901] successful NUMA node read from SysFS had negative value (-1), but there must be at least one NUMA node, so returning NUMA node zero. See more at https://github.com/torvalds/linux/blob/v6.0/Documentation/ABI/testing/sysfs-bus-pci#L344-L355\n",
      "2024-02-28 23:26:02.031292: I external/local_xla/xla/stream_executor/cuda/cuda_executor.cc:901] successful NUMA node read from SysFS had negative value (-1), but there must be at least one NUMA node, so returning NUMA node zero. See more at https://github.com/torvalds/linux/blob/v6.0/Documentation/ABI/testing/sysfs-bus-pci#L344-L355\n",
      "2024-02-28 23:26:02.031480: I external/local_xla/xla/stream_executor/cuda/cuda_executor.cc:901] successful NUMA node read from SysFS had negative value (-1), but there must be at least one NUMA node, so returning NUMA node zero. See more at https://github.com/torvalds/linux/blob/v6.0/Documentation/ABI/testing/sysfs-bus-pci#L344-L355\n",
      "2024-02-28 23:26:02.031632: I external/local_xla/xla/stream_executor/cuda/cuda_executor.cc:901] successful NUMA node read from SysFS had negative value (-1), but there must be at least one NUMA node, so returning NUMA node zero. See more at https://github.com/torvalds/linux/blob/v6.0/Documentation/ABI/testing/sysfs-bus-pci#L344-L355\n",
      "2024-02-28 23:26:03.326723: I external/local_xla/xla/stream_executor/cuda/cuda_executor.cc:901] successful NUMA node read from SysFS had negative value (-1), but there must be at least one NUMA node, so returning NUMA node zero. See more at https://github.com/torvalds/linux/blob/v6.0/Documentation/ABI/testing/sysfs-bus-pci#L344-L355\n",
      "2024-02-28 23:26:03.326921: I external/local_xla/xla/stream_executor/cuda/cuda_executor.cc:901] successful NUMA node read from SysFS had negative value (-1), but there must be at least one NUMA node, so returning NUMA node zero. See more at https://github.com/torvalds/linux/blob/v6.0/Documentation/ABI/testing/sysfs-bus-pci#L344-L355\n",
      "2024-02-28 23:26:03.327078: I external/local_xla/xla/stream_executor/cuda/cuda_executor.cc:901] successful NUMA node read from SysFS had negative value (-1), but there must be at least one NUMA node, so returning NUMA node zero. See more at https://github.com/torvalds/linux/blob/v6.0/Documentation/ABI/testing/sysfs-bus-pci#L344-L355\n",
      "2024-02-28 23:26:03.327229: I external/local_xla/xla/stream_executor/cuda/cuda_executor.cc:901] successful NUMA node read from SysFS had negative value (-1), but there must be at least one NUMA node, so returning NUMA node zero. See more at https://github.com/torvalds/linux/blob/v6.0/Documentation/ABI/testing/sysfs-bus-pci#L344-L355\n",
      "2024-02-28 23:26:03.327378: I external/local_xla/xla/stream_executor/cuda/cuda_executor.cc:901] successful NUMA node read from SysFS had negative value (-1), but there must be at least one NUMA node, so returning NUMA node zero. See more at https://github.com/torvalds/linux/blob/v6.0/Documentation/ABI/testing/sysfs-bus-pci#L344-L355\n",
      "2024-02-28 23:26:03.327498: I tensorflow/core/common_runtime/gpu/gpu_device.cc:1929] Created device /job:localhost/replica:0/task:0/device:GPU:0 with 22278 MB memory:  -> device: 0, name: NVIDIA GeForce RTX 3090, pci bus id: 0000:0b:00.0, compute capability: 8.6\n",
      "2024-02-28 23:26:03.327734: I external/local_xla/xla/stream_executor/cuda/cuda_executor.cc:901] successful NUMA node read from SysFS had negative value (-1), but there must be at least one NUMA node, so returning NUMA node zero. See more at https://github.com/torvalds/linux/blob/v6.0/Documentation/ABI/testing/sysfs-bus-pci#L344-L355\n",
      "2024-02-28 23:26:03.327863: I tensorflow/core/common_runtime/gpu/gpu_device.cc:1929] Created device /job:localhost/replica:0/task:0/device:GPU:1 with 23654 MB memory:  -> device: 1, name: Quadro P6000, pci bus id: 0000:0a:00.0, compute capability: 6.1\n"
     ]
    }
   ],
   "source": [
    "# define input shape and activity count as per your dataset\n",
    "input_shape = (128, 16)\n",
    "activityCount = 33  \n",
    "\n",
    "#HART = model.HART(input_shape, activityCount)\n",
    "MobileHART = model.mobileHART_XS(input_shape, activityCount)"
   ]
  },
  {
   "cell_type": "code",
   "execution_count": 5,
   "id": "d358c783-a50f-454b-8362-c9c2764309fa",
   "metadata": {},
   "outputs": [],
   "source": [
    "def create_overlapping_windows(data, window_size, step_size, features):\n",
    "    segments = []\n",
    "    for start in range(0, len(data) - window_size + 1, step_size):\n",
    "        segment = data[start:start + window_size, :features]\n",
    "        segments.append(segment)\n",
    "    return np.array(segments)\n",
    "\n",
    "#defining parameters\n",
    "window_size = 128  \n",
    "step_size = 64    \n",
    "num_features = 16 \n",
    "\n",
    "reshaped_data = create_overlapping_windows(data, window_size, step_size, num_features)\n",
    "\n",
    "\n",
    "def assign_labels_to_windows(labels, window_size, step_size):\n",
    "    window_labels = []\n",
    "    for start in range(0, len(labels) - window_size + 1, step_size):\n",
    "        window_label = np.bincount(labels[start:start + window_size]).argmax()\n",
    "        window_labels.append(window_label)\n",
    "    return np.array(window_labels)\n",
    "\n",
    "window_labels = assign_labels_to_windows(labels, window_size, step_size)\n"
   ]
  },
  {
   "cell_type": "code",
   "execution_count": 6,
   "id": "947f0a00-7dd1-44e8-a133-6cbaf580dd29",
   "metadata": {},
   "outputs": [],
   "source": [
    "#split the data into training and testing sets\n",
    "X_train, X_test, y_train, y_test = train_test_split(reshaped_data, window_labels, test_size=0.2, random_state=21)"
   ]
  },
  {
   "cell_type": "code",
   "execution_count": 7,
   "id": "e5023577-3008-4e22-b32f-273c0d021786",
   "metadata": {},
   "outputs": [],
   "source": [
    "#compile the HART model\n",
    "MobileHART.compile(optimizer='adam', loss='sparse_categorical_crossentropy', metrics=['accuracy'])"
   ]
  },
  {
   "cell_type": "code",
   "execution_count": 8,
   "id": "8f8c12c1-ddf0-490a-90ac-25a0961655fc",
   "metadata": {},
   "outputs": [],
   "source": [
    "early_stopping = keras.callbacks.EarlyStopping(\n",
    "    monitor='val_loss', \n",
    "    patience=5,        \n",
    "    restore_best_weights=True  \n",
    ")"
   ]
  },
  {
   "cell_type": "code",
   "execution_count": 9,
   "id": "7bedd622-33bb-4115-bf99-5534eee7158b",
   "metadata": {
    "scrolled": true
   },
   "outputs": [
    {
     "name": "stdout",
     "output_type": "stream",
     "text": [
      "Epoch 1/100\n"
     ]
    },
    {
     "name": "stderr",
     "output_type": "stream",
     "text": [
      "2024-02-28 23:26:48.451280: I external/local_xla/xla/stream_executor/cuda/cuda_dnn.cc:454] Loaded cuDNN version 8902\n",
      "2024-02-28 23:26:49.223812: I external/local_tsl/tsl/platform/default/subprocess.cc:304] Start cannot spawn child process: No such file or directory\n",
      "2024-02-28 23:26:49.320590: I external/local_tsl/tsl/platform/default/subprocess.cc:304] Start cannot spawn child process: No such file or directory\n",
      "2024-02-28 23:26:50.926796: I external/local_xla/xla/service/service.cc:168] XLA service 0x7f8d08584770 initialized for platform CUDA (this does not guarantee that XLA will be used). Devices:\n",
      "2024-02-28 23:26:50.926814: I external/local_xla/xla/service/service.cc:176]   StreamExecutor device (0): NVIDIA GeForce RTX 3090, Compute Capability 8.6\n",
      "2024-02-28 23:26:50.926818: I external/local_xla/xla/service/service.cc:176]   StreamExecutor device (1): Quadro P6000, Compute Capability 6.1\n",
      "2024-02-28 23:26:50.929725: I tensorflow/compiler/mlir/tensorflow/utils/dump_mlir_util.cc:269] disabling MLIR crash reproducer, set env var `MLIR_CRASH_REPRODUCER_DIRECTORY` to enable.\n",
      "WARNING: All log messages before absl::InitializeLog() is called are written to STDERR\n",
      "I0000 00:00:1709180811.012779 1987608 device_compiler.h:186] Compiled cluster using XLA!  This line is logged at most once for the lifetime of the process.\n"
     ]
    },
    {
     "name": "stdout",
     "output_type": "stream",
     "text": [
      "1065/1065 [==============================] - 98s 60ms/step - loss: 1.4548 - accuracy: 0.5077 - val_loss: 1.3396 - val_accuracy: 0.5424\n",
      "Epoch 2/100\n",
      "1065/1065 [==============================] - 60s 57ms/step - loss: 0.8189 - accuracy: 0.7143 - val_loss: 0.6898 - val_accuracy: 0.7683\n",
      "Epoch 3/100\n",
      "1065/1065 [==============================] - 60s 57ms/step - loss: 0.6409 - accuracy: 0.7760 - val_loss: 0.8312 - val_accuracy: 0.7358\n",
      "Epoch 4/100\n",
      "1065/1065 [==============================] - 61s 57ms/step - loss: 0.5576 - accuracy: 0.8064 - val_loss: 0.6167 - val_accuracy: 0.8054\n",
      "Epoch 5/100\n",
      "1065/1065 [==============================] - 62s 58ms/step - loss: 0.5010 - accuracy: 0.8293 - val_loss: 0.4906 - val_accuracy: 0.8413\n",
      "Epoch 6/100\n",
      "1065/1065 [==============================] - 60s 57ms/step - loss: 0.4584 - accuracy: 0.8467 - val_loss: 0.3247 - val_accuracy: 0.8944\n",
      "Epoch 7/100\n",
      "1065/1065 [==============================] - 61s 57ms/step - loss: 0.4087 - accuracy: 0.8620 - val_loss: 0.3806 - val_accuracy: 0.8781\n",
      "Epoch 8/100\n",
      "1065/1065 [==============================] - 62s 58ms/step - loss: 0.3759 - accuracy: 0.8761 - val_loss: 0.3964 - val_accuracy: 0.8645\n",
      "Epoch 9/100\n",
      "1065/1065 [==============================] - 62s 58ms/step - loss: 0.4804 - accuracy: 0.8443 - val_loss: 0.3095 - val_accuracy: 0.8992\n",
      "Epoch 10/100\n",
      "1065/1065 [==============================] - 61s 58ms/step - loss: 0.3413 - accuracy: 0.8853 - val_loss: 0.2745 - val_accuracy: 0.9117\n",
      "Epoch 11/100\n",
      "1065/1065 [==============================] - 61s 58ms/step - loss: 0.3184 - accuracy: 0.8963 - val_loss: 0.2815 - val_accuracy: 0.9047\n",
      "Epoch 12/100\n",
      "1065/1065 [==============================] - 62s 58ms/step - loss: 0.2851 - accuracy: 0.9038 - val_loss: 0.2783 - val_accuracy: 0.9121\n",
      "Epoch 13/100\n",
      "1065/1065 [==============================] - 61s 58ms/step - loss: 0.2974 - accuracy: 0.9028 - val_loss: 0.2343 - val_accuracy: 0.9253\n",
      "Epoch 14/100\n",
      "1065/1065 [==============================] - 60s 57ms/step - loss: 0.2716 - accuracy: 0.9098 - val_loss: 0.2684 - val_accuracy: 0.9148\n",
      "Epoch 15/100\n",
      "1065/1065 [==============================] - 61s 57ms/step - loss: 0.2691 - accuracy: 0.9111 - val_loss: 0.2406 - val_accuracy: 0.9251\n",
      "Epoch 16/100\n",
      "1065/1065 [==============================] - 60s 57ms/step - loss: 0.2578 - accuracy: 0.9156 - val_loss: 0.2530 - val_accuracy: 0.9244\n",
      "Epoch 17/100\n",
      "1065/1065 [==============================] - 61s 58ms/step - loss: 0.2327 - accuracy: 0.9235 - val_loss: 0.3263 - val_accuracy: 0.9114\n",
      "Epoch 18/100\n",
      "1065/1065 [==============================] - 61s 57ms/step - loss: 0.2346 - accuracy: 0.9233 - val_loss: 0.2449 - val_accuracy: 0.9269\n"
     ]
    }
   ],
   "source": [
    "# fit the model on your training data\n",
    "history = MobileHART.fit(X_train, y_train, epochs=100, batch_size=32, validation_data=(X_test, y_test),callbacks=[early_stopping])"
   ]
  },
  {
   "cell_type": "code",
   "execution_count": 10,
   "id": "bb25cf8f-6185-4d0d-a9ce-69207d0b0587",
   "metadata": {},
   "outputs": [
    {
     "name": "stdout",
     "output_type": "stream",
     "text": [
      "267/267 [==============================] - 3s 12ms/step - loss: 0.2343 - accuracy: 0.9253\n",
      "Test Loss: 0.2342822253704071, Test Accuracy: 0.9252995252609253\n"
     ]
    }
   ],
   "source": [
    "# evaluate the model on the test data\n",
    "performance = MobileHART.evaluate(X_test, y_test)\n",
    "print(f\"Test Loss: {performance[0]}, Test Accuracy: {performance[1]}\")"
   ]
  },
  {
   "cell_type": "code",
   "execution_count": 12,
   "id": "7056de91-48fa-400f-b153-fb0ba36fefe6",
   "metadata": {},
   "outputs": [
    {
     "name": "stdout",
     "output_type": "stream",
     "text": [
      "267/267 [==============================] - 3s 12ms/step\n",
      "              precision    recall  f1-score   support\n",
      "\n",
      "     Class 0       0.86      0.94      0.90       242\n",
      "     Class 1       0.90      0.87      0.89       277\n",
      "     Class 2       0.98      0.99      0.98       263\n",
      "     Class 3       0.98      1.00      0.99       241\n",
      "     Class 4       0.84      0.84      0.84       241\n",
      "     Class 5       0.89      0.94      0.91       235\n",
      "     Class 6       0.98      0.92      0.95       263\n",
      "     Class 7       0.94      0.99      0.96       262\n",
      "     Class 8       1.00      0.95      0.97       257\n",
      "     Class 9       0.92      0.89      0.91       262\n",
      "    Class 10       0.85      0.90      0.87       261\n",
      "    Class 11       1.00      0.96      0.98       259\n",
      "    Class 12       0.97      0.99      0.98       278\n",
      "    Class 13       0.99      0.97      0.98       282\n",
      "    Class 14       0.97      0.96      0.96       245\n",
      "    Class 15       0.94      0.92      0.93       243\n",
      "    Class 16       0.92      0.92      0.92       263\n",
      "    Class 17       0.90      0.88      0.89       234\n",
      "    Class 18       0.97      0.98      0.97       282\n",
      "    Class 19       0.98      0.96      0.97       252\n",
      "    Class 20       0.98      0.98      0.98       282\n",
      "    Class 21       0.96      0.99      0.97       274\n",
      "    Class 22       0.97      1.00      0.98       237\n",
      "    Class 23       1.00      0.99      0.99       260\n",
      "    Class 24       0.97      0.95      0.96       287\n",
      "    Class 25       0.85      0.91      0.88       258\n",
      "    Class 26       0.85      0.81      0.83       268\n",
      "    Class 27       0.68      0.90      0.78       231\n",
      "    Class 28       0.84      0.86      0.85       248\n",
      "    Class 29       0.95      0.85      0.90       265\n",
      "    Class 30       0.91      0.67      0.77       257\n",
      "    Class 31       0.84      0.90      0.87       260\n",
      "    Class 32       0.97      0.99      0.98       245\n",
      "\n",
      "    accuracy                           0.93      8514\n",
      "   macro avg       0.93      0.92      0.92      8514\n",
      "weighted avg       0.93      0.93      0.93      8514\n",
      "\n"
     ]
    }
   ],
   "source": [
    "# predict classes on the test data\n",
    "y_pred_prob = MobileHART.predict(X_test)  # This gives you the probabilities\n",
    "y_pred = np.argmax(y_pred_prob, axis=1)  # Convert probabilities to class labels\n",
    "\n",
    "#generate the classification report\n",
    "report = classification_report(y_test, y_pred, target_names=[f\"Class {i}\" for i in range(activityCount)])\n",
    "\n",
    "print(report)\n"
   ]
  },
  {
   "cell_type": "code",
   "execution_count": null,
   "id": "42973931-8879-4083-b8dd-5899530cd3cf",
   "metadata": {},
   "outputs": [],
   "source": []
  },
  {
   "cell_type": "markdown",
   "id": "4b97ab4d",
   "metadata": {},
   "source": [
    "## Testing the healthy trained model on PD data"
   ]
  },
  {
   "cell_type": "code",
   "execution_count": null,
   "id": "8922f452-da68-4d0e-bb86-d8be7d084847",
   "metadata": {},
   "outputs": [],
   "source": []
  },
  {
   "cell_type": "code",
   "execution_count": 14,
   "id": "02138d42",
   "metadata": {},
   "outputs": [
    {
     "name": "stdout",
     "output_type": "stream",
     "text": [
      "1346/1346 [==============================] - 17s 12ms/step - loss: 12.6001 - accuracy: 0.0312\n",
      "Test Loss: 12.600137710571289, Test Accuracy: 0.031237661838531494\n"
     ]
    }
   ],
   "source": [
    "#read and preprocess the test data\n",
    "test_columns = [\"AccelX(g)_leg\", \"AccelY(g)_leg\", \"AccelZ(g)_leg\", \"GyroX(¬∞/s)_leg\", \"GyroY(¬∞/s)_leg\", \"GyroZ(¬∞/s)_leg\", \"AccelX(g)_hand\", \"AccelY(g)_hand\", \"AccelZ(g)_hand\", \"GyroX(¬∞/s)_hand\", \"GyroY(¬∞/s)_hand\", \"GyroZ(¬∞/s)_hand\", \"AccelX(g)_chest\", \"AccelY(g)_chest\", \"AccelZ(g)_chest\", \"Sample(V)\", \"Activity_Label\"]\n",
    "test_df = pd.read_csv(\"/home/jupyter-saswar/PD_smote.csv\", header=0, names=test_columns)\n",
    "\n",
    "#factorize test labels\n",
    "test_labels = pd.factorize(test_df['Activity_Label'])[0]\n",
    "\n",
    "#select relevant columns for test features\n",
    "test_feature_columns = test_df.columns[:-1]  \n",
    "test_data = test_df[test_feature_columns].values\n",
    "\n",
    "test_reshaped_data = create_overlapping_windows(test_data, window_size, step_size, num_features)\n",
    "\n",
    "test_window_labels = assign_labels_to_windows(test_labels, window_size, step_size)\n",
    "\n",
    "test_performance = MobileHART.evaluate(test_reshaped_data, test_window_labels)\n",
    "print(f\"Test Loss: {test_performance[0]}, Test Accuracy: {test_performance[1]}\")\n"
   ]
  },
  {
   "cell_type": "code",
   "execution_count": 15,
   "id": "707c3ecc",
   "metadata": {},
   "outputs": [
    {
     "name": "stdout",
     "output_type": "stream",
     "text": [
      "1346/1346 [==============================] - 16s 12ms/step\n",
      "              precision    recall  f1-score   support\n",
      "\n",
      "           0       0.00      0.00      0.00      1388\n",
      "           1       0.00      0.01      0.00      1389\n",
      "           2       0.00      0.00      0.00      1389\n",
      "           3       0.02      0.02      0.02      1389\n",
      "           4       0.04      0.04      0.04      1387\n",
      "           5       0.00      0.00      0.00      1390\n",
      "           6       0.03      0.01      0.01      1389\n",
      "           7       0.00      0.00      0.00      1389\n",
      "           8       0.00      0.00      0.00      1389\n",
      "           9       0.00      0.00      0.00      1389\n",
      "          10       0.07      0.12      0.08      1387\n",
      "          11       0.05      0.00      0.01      1390\n",
      "          12       0.00      0.00      0.00      1390\n",
      "          13       0.00      0.00      0.00      1390\n",
      "          14       0.00      0.00      0.00      1389\n",
      "          15       0.00      0.00      0.00      1389\n",
      "          16       0.00      0.00      0.00      1389\n",
      "          17       0.00      0.00      0.00      1389\n",
      "          18       0.00      0.00      0.00      1389\n",
      "          19       0.00      0.00      0.00      1388\n",
      "          20       0.00      0.00      0.00      1390\n",
      "          21       0.04      0.04      0.04      1389\n",
      "          22       0.00      0.00      0.00      1389\n",
      "          23       0.00      0.00      0.00      1389\n",
      "          24       0.00      0.00      0.00      1389\n",
      "          25       0.00      0.00      0.00      1389\n",
      "          26       0.00      0.00      0.00      1389\n",
      "          27       0.26      0.73      0.38      1389\n",
      "          28       0.00      0.00      0.00      1389\n",
      "          29       0.00      0.00      0.00      1389\n",
      "          30       0.00      0.00      0.00      1388\n",
      "          31       0.00      0.00      0.00         0\n",
      "          32       0.00      0.00      0.00         0\n",
      "\n",
      "    accuracy                           0.03     43057\n",
      "   macro avg       0.02      0.03      0.02     43057\n",
      "weighted avg       0.02      0.03      0.02     43057\n",
      "\n"
     ]
    },
    {
     "name": "stderr",
     "output_type": "stream",
     "text": [
      "/home/jupyter-saswar/.local/lib/python3.9/site-packages/sklearn/metrics/_classification.py:1497: UndefinedMetricWarning: Recall is ill-defined and being set to 0.0 in labels with no true samples. Use `zero_division` parameter to control this behavior.\n",
      "  _warn_prf(average, modifier, f\"{metric.capitalize()} is\", len(result))\n",
      "/home/jupyter-saswar/.local/lib/python3.9/site-packages/sklearn/metrics/_classification.py:1497: UndefinedMetricWarning: Recall is ill-defined and being set to 0.0 in labels with no true samples. Use `zero_division` parameter to control this behavior.\n",
      "  _warn_prf(average, modifier, f\"{metric.capitalize()} is\", len(result))\n",
      "/home/jupyter-saswar/.local/lib/python3.9/site-packages/sklearn/metrics/_classification.py:1497: UndefinedMetricWarning: Recall is ill-defined and being set to 0.0 in labels with no true samples. Use `zero_division` parameter to control this behavior.\n",
      "  _warn_prf(average, modifier, f\"{metric.capitalize()} is\", len(result))\n"
     ]
    }
   ],
   "source": [
    "\n",
    "\n",
    "#evaluate the model on the test data\n",
    "test_predictions = MobileHART.predict(test_reshaped_data)\n",
    "test_predictions = np.argmax(test_predictions, axis=1)\n",
    "\n",
    "#print classification report\n",
    "print(classification_report(test_window_labels, test_predictions))\n",
    "\n",
    "\n"
   ]
  },
  {
   "cell_type": "code",
   "execution_count": 16,
   "id": "f07f7bc6",
   "metadata": {},
   "outputs": [
    {
     "name": "stdout",
     "output_type": "stream",
     "text": [
      "                      Label  Count  Total     Ratio\n",
      "201  actual_17_predicted_23   1389   1389  1.000000\n",
      "216  actual_19_predicted_32   1388   1388  1.000000\n",
      "287  actual_25_predicted_17   1388   1389  0.999280\n",
      "121   actual_9_predicted_14   1387   1389  0.998560\n",
      "195   actual_16_predicted_5   1387   1389  0.998560\n",
      "..                      ...    ...    ...       ...\n",
      "348  actual_11_predicted_31      1   1390  0.000719\n",
      "319  actual_13_predicted_17      1   1390  0.000719\n",
      "158  actual_13_predicted_32      1   1390  0.000719\n",
      "228   actual_20_predicted_0      1   1390  0.000719\n",
      "343  actual_12_predicted_32      1   1390  0.000719\n",
      "\n",
      "[354 rows x 4 columns]\n"
     ]
    }
   ],
   "source": [
    "#calculate ratios and generate a DataFrame for detailed analysis\n",
    "\n",
    "label_counts = defaultdict(int)\n",
    "total_counts = defaultdict(int)\n",
    "\n",
    "for i in range(len(test_window_labels)):\n",
    "    actual_label = test_window_labels[i]\n",
    "    predicted_label = test_predictions[i]\n",
    "    label_counts[f\"actual_{actual_label}_predicted_{predicted_label}\"] += 1\n",
    "    total_counts[f\"actual{actual_label}\"] += 1\n",
    "\n",
    "data = []\n",
    "for label, count in label_counts.items():\n",
    "    actual_label = label.split(\"_\")[1]\n",
    "    total = total_counts[f\"actual{actual_label}\"]\n",
    "    ratio = count / total if total > 0 else 0\n",
    "    data.append([label, count, total, ratio])\n",
    "\n",
    "results_df = pd.DataFrame(data, columns=[\"Label\", \"Count\", \"Total\", \"Ratio\"])\n",
    "results_df.sort_values(by=\"Ratio\", ascending=False, inplace=True)\n",
    "print(results_df)\n"
   ]
  },
  {
   "cell_type": "code",
   "execution_count": 21,
   "id": "3c1383f1",
   "metadata": {},
   "outputs": [
    {
     "name": "stdout",
     "output_type": "stream",
     "text": [
      "Tweaked Classification Report for MobileHART\n",
      "      trained on Non PD - Tested on PD\n"
     ]
    },
    {
     "data": {
      "text/html": [
       "<div>\n",
       "<style scoped>\n",
       "    .dataframe tbody tr th:only-of-type {\n",
       "        vertical-align: middle;\n",
       "    }\n",
       "\n",
       "    .dataframe tbody tr th {\n",
       "        vertical-align: top;\n",
       "    }\n",
       "\n",
       "    .dataframe thead th {\n",
       "        text-align: right;\n",
       "    }\n",
       "</style>\n",
       "<table border=\"1\" class=\"dataframe\">\n",
       "  <thead>\n",
       "    <tr style=\"text-align: right;\">\n",
       "      <th></th>\n",
       "      <th>Label</th>\n",
       "      <th>Count</th>\n",
       "      <th>Total</th>\n",
       "      <th>Ratio</th>\n",
       "    </tr>\n",
       "  </thead>\n",
       "  <tbody>\n",
       "    <tr>\n",
       "      <th>201</th>\n",
       "      <td>actual_17_predicted_23</td>\n",
       "      <td>1389</td>\n",
       "      <td>1389</td>\n",
       "      <td>1.000000</td>\n",
       "    </tr>\n",
       "    <tr>\n",
       "      <th>216</th>\n",
       "      <td>actual_19_predicted_32</td>\n",
       "      <td>1388</td>\n",
       "      <td>1388</td>\n",
       "      <td>1.000000</td>\n",
       "    </tr>\n",
       "    <tr>\n",
       "      <th>287</th>\n",
       "      <td>actual_25_predicted_17</td>\n",
       "      <td>1388</td>\n",
       "      <td>1389</td>\n",
       "      <td>0.999280</td>\n",
       "    </tr>\n",
       "    <tr>\n",
       "      <th>121</th>\n",
       "      <td>actual_9_predicted_14</td>\n",
       "      <td>1387</td>\n",
       "      <td>1389</td>\n",
       "      <td>0.998560</td>\n",
       "    </tr>\n",
       "    <tr>\n",
       "      <th>195</th>\n",
       "      <td>actual_16_predicted_5</td>\n",
       "      <td>1387</td>\n",
       "      <td>1389</td>\n",
       "      <td>0.998560</td>\n",
       "    </tr>\n",
       "    <tr>\n",
       "      <th>284</th>\n",
       "      <td>actual_24_predicted_2</td>\n",
       "      <td>1386</td>\n",
       "      <td>1389</td>\n",
       "      <td>0.997840</td>\n",
       "    </tr>\n",
       "    <tr>\n",
       "      <th>289</th>\n",
       "      <td>actual_26_predicted_19</td>\n",
       "      <td>1385</td>\n",
       "      <td>1389</td>\n",
       "      <td>0.997120</td>\n",
       "    </tr>\n",
       "    <tr>\n",
       "      <th>111</th>\n",
       "      <td>actual_8_predicted_3</td>\n",
       "      <td>1378</td>\n",
       "      <td>1389</td>\n",
       "      <td>0.992081</td>\n",
       "    </tr>\n",
       "    <tr>\n",
       "      <th>204</th>\n",
       "      <td>actual_18_predicted_22</td>\n",
       "      <td>1353</td>\n",
       "      <td>1389</td>\n",
       "      <td>0.974082</td>\n",
       "    </tr>\n",
       "    <tr>\n",
       "      <th>147</th>\n",
       "      <td>actual_12_predicted_22</td>\n",
       "      <td>1330</td>\n",
       "      <td>1390</td>\n",
       "      <td>0.956835</td>\n",
       "    </tr>\n",
       "    <tr>\n",
       "      <th>258</th>\n",
       "      <td>actual_23_predicted_21</td>\n",
       "      <td>1232</td>\n",
       "      <td>1389</td>\n",
       "      <td>0.886969</td>\n",
       "    </tr>\n",
       "    <tr>\n",
       "      <th>177</th>\n",
       "      <td>actual_15_predicted_10</td>\n",
       "      <td>1180</td>\n",
       "      <td>1389</td>\n",
       "      <td>0.849532</td>\n",
       "    </tr>\n",
       "    <tr>\n",
       "      <th>85</th>\n",
       "      <td>actual_6_predicted_5</td>\n",
       "      <td>1136</td>\n",
       "      <td>1389</td>\n",
       "      <td>0.817855</td>\n",
       "    </tr>\n",
       "    <tr>\n",
       "      <th>132</th>\n",
       "      <td>actual_11_predicted_14</td>\n",
       "      <td>1119</td>\n",
       "      <td>1390</td>\n",
       "      <td>0.805036</td>\n",
       "    </tr>\n",
       "    <tr>\n",
       "      <th>241</th>\n",
       "      <td>actual_22_predicted_14</td>\n",
       "      <td>1098</td>\n",
       "      <td>1389</td>\n",
       "      <td>0.790497</td>\n",
       "    </tr>\n",
       "    <tr>\n",
       "      <th>297</th>\n",
       "      <td>actual_27_predicted_27</td>\n",
       "      <td>1019</td>\n",
       "      <td>1389</td>\n",
       "      <td>0.733621</td>\n",
       "    </tr>\n",
       "    <tr>\n",
       "      <th>22</th>\n",
       "      <td>actual_1_predicted_26</td>\n",
       "      <td>985</td>\n",
       "      <td>1389</td>\n",
       "      <td>0.709143</td>\n",
       "    </tr>\n",
       "    <tr>\n",
       "      <th>222</th>\n",
       "      <td>actual_20_predicted_27</td>\n",
       "      <td>980</td>\n",
       "      <td>1390</td>\n",
       "      <td>0.705036</td>\n",
       "    </tr>\n",
       "    <tr>\n",
       "      <th>107</th>\n",
       "      <td>actual_7_predicted_27</td>\n",
       "      <td>979</td>\n",
       "      <td>1389</td>\n",
       "      <td>0.704824</td>\n",
       "    </tr>\n",
       "    <tr>\n",
       "      <th>314</th>\n",
       "      <td>actual_30_predicted_1</td>\n",
       "      <td>959</td>\n",
       "      <td>1388</td>\n",
       "      <td>0.690922</td>\n",
       "    </tr>\n",
       "  </tbody>\n",
       "</table>\n",
       "</div>"
      ],
      "text/plain": [
       "                      Label  Count  Total     Ratio\n",
       "201  actual_17_predicted_23   1389   1389  1.000000\n",
       "216  actual_19_predicted_32   1388   1388  1.000000\n",
       "287  actual_25_predicted_17   1388   1389  0.999280\n",
       "121   actual_9_predicted_14   1387   1389  0.998560\n",
       "195   actual_16_predicted_5   1387   1389  0.998560\n",
       "284   actual_24_predicted_2   1386   1389  0.997840\n",
       "289  actual_26_predicted_19   1385   1389  0.997120\n",
       "111    actual_8_predicted_3   1378   1389  0.992081\n",
       "204  actual_18_predicted_22   1353   1389  0.974082\n",
       "147  actual_12_predicted_22   1330   1390  0.956835\n",
       "258  actual_23_predicted_21   1232   1389  0.886969\n",
       "177  actual_15_predicted_10   1180   1389  0.849532\n",
       "85     actual_6_predicted_5   1136   1389  0.817855\n",
       "132  actual_11_predicted_14   1119   1390  0.805036\n",
       "241  actual_22_predicted_14   1098   1389  0.790497\n",
       "297  actual_27_predicted_27   1019   1389  0.733621\n",
       "22    actual_1_predicted_26    985   1389  0.709143\n",
       "222  actual_20_predicted_27    980   1390  0.705036\n",
       "107   actual_7_predicted_27    979   1389  0.704824\n",
       "314   actual_30_predicted_1    959   1388  0.690922"
      ]
     },
     "execution_count": 21,
     "metadata": {},
     "output_type": "execute_result"
    }
   ],
   "source": [
    "print('''Tweaked Classification Report for MobileHART\n",
    "      trained on Non PD - Tested on PD''')\n",
    "results_df.head(20)"
   ]
  },
  {
   "cell_type": "code",
   "execution_count": null,
   "id": "0921a380",
   "metadata": {},
   "outputs": [],
   "source": []
  },
  {
   "cell_type": "code",
   "execution_count": null,
   "id": "4138e0f1",
   "metadata": {},
   "outputs": [],
   "source": []
  },
  {
   "cell_type": "markdown",
   "id": "e6dea13c",
   "metadata": {},
   "source": [
    "## Mobile HART on PD Smote Data"
   ]
  },
  {
   "cell_type": "code",
   "execution_count": null,
   "id": "1ad1ab09",
   "metadata": {},
   "outputs": [],
   "source": []
  },
  {
   "cell_type": "code",
   "execution_count": 23,
   "id": "d7d091e1",
   "metadata": {},
   "outputs": [],
   "source": [
    "columns = [\"AccelX(g)_leg\", \"AccelY(g)_leg\", \"AccelZ(g)_leg\", \"GyroX(¬∞/s)_leg\", \"GyroY(¬∞/s)_leg\", \"GyroZ(¬∞/s)_leg\", \"AccelX(g)_hand\", \"AccelY(g)_hand\", \"AccelZ(g)_hand\", \"GyroX(¬∞/s)_hand\", \"GyroY(¬∞/s)_hand\", \"GyroZ(¬∞/s)_hand\", \"AccelX(g)_chest\", \"AccelY(g)_chest\", \"AccelZ(g)_chest\", \"Sample(V)\", \"Activity_Label\"]\n",
    "df1 = pd.read_csv(\"/home/jupyter-saswar/PD_smote.csv\", header=0, names=columns)\n",
    "\n",
    "labels = pd.factorize(df1['Activity_Label'])[0]\n",
    "\n",
    "feature_columns = df1.columns[:-1] \n",
    "data = df1[feature_columns].values"
   ]
  },
  {
   "cell_type": "code",
   "execution_count": 24,
   "id": "94edc0af",
   "metadata": {},
   "outputs": [],
   "source": [
    "#define parameters for overlapping windows\n",
    "window_size = 128 \n",
    "step_size = 64    \n",
    "num_features = 16 \n",
    "\n",
    "reshaped_data = create_overlapping_windows(data, window_size, step_size, num_features)\n",
    "\n",
    "window_labels = assign_labels_to_windows(labels, window_size, step_size)\n",
    "\n",
    "input_shape = (128, 16)\n",
    "activityCount = len(np.unique(labels))  # Update this based on the unique number of labels\n"
   ]
  },
  {
   "cell_type": "code",
   "execution_count": 26,
   "id": "5f0b5bfc",
   "metadata": {},
   "outputs": [],
   "source": [
    "MHART = model.mobileHART_XS(input_shape, activityCount)\n",
    "\n",
    "X_train, X_test, y_train, y_test = train_test_split(reshaped_data, window_labels, test_size=0.2, random_state=42)\n",
    "\n",
    "MHART.compile(optimizer='adam', loss='sparse_categorical_crossentropy', metrics=['accuracy'])\n",
    "\n",
    "early_stopping = keras.callbacks.EarlyStopping(\n",
    "    monitor='val_loss',\n",
    "    patience=5,\n",
    "    restore_best_weights=True\n",
    ")\n"
   ]
  },
  {
   "cell_type": "code",
   "execution_count": 27,
   "id": "f2ec83e0",
   "metadata": {},
   "outputs": [
    {
     "name": "stdout",
     "output_type": "stream",
     "text": [
      "Epoch 1/200\n",
      "539/539 [==============================] - 63s 64ms/step - loss: 1.0552 - accuracy: 0.6530 - val_loss: 3.0530 - val_accuracy: 0.2346\n",
      "Epoch 2/200\n",
      "539/539 [==============================] - 31s 58ms/step - loss: 0.3515 - accuracy: 0.8915 - val_loss: 0.2242 - val_accuracy: 0.9331\n",
      "Epoch 3/200\n",
      "539/539 [==============================] - 31s 57ms/step - loss: 0.2392 - accuracy: 0.9259 - val_loss: 0.2273 - val_accuracy: 0.9200\n",
      "Epoch 4/200\n",
      "539/539 [==============================] - 31s 57ms/step - loss: 0.2053 - accuracy: 0.9390 - val_loss: 0.1314 - val_accuracy: 0.9616\n",
      "Epoch 5/200\n",
      "539/539 [==============================] - 31s 57ms/step - loss: 0.1693 - accuracy: 0.9492 - val_loss: 0.1818 - val_accuracy: 0.9477\n",
      "Epoch 6/200\n",
      "539/539 [==============================] - 31s 57ms/step - loss: 0.1376 - accuracy: 0.9584 - val_loss: 0.1813 - val_accuracy: 0.9493\n",
      "Epoch 7/200\n",
      "539/539 [==============================] - 31s 57ms/step - loss: 0.1557 - accuracy: 0.9542 - val_loss: 0.1137 - val_accuracy: 0.9662\n",
      "Epoch 8/200\n",
      "539/539 [==============================] - 31s 57ms/step - loss: 0.1226 - accuracy: 0.9630 - val_loss: 0.0996 - val_accuracy: 0.9712\n",
      "Epoch 9/200\n",
      "539/539 [==============================] - 31s 57ms/step - loss: 0.1497 - accuracy: 0.9554 - val_loss: 0.2185 - val_accuracy: 0.9415\n",
      "Epoch 10/200\n",
      "539/539 [==============================] - 31s 57ms/step - loss: 0.1160 - accuracy: 0.9646 - val_loss: 0.0943 - val_accuracy: 0.9711\n",
      "Epoch 11/200\n",
      "539/539 [==============================] - 31s 58ms/step - loss: 0.0971 - accuracy: 0.9702 - val_loss: 0.0896 - val_accuracy: 0.9743\n",
      "Epoch 12/200\n",
      "539/539 [==============================] - 31s 57ms/step - loss: 0.0898 - accuracy: 0.9723 - val_loss: 0.0963 - val_accuracy: 0.9686\n",
      "Epoch 13/200\n",
      "539/539 [==============================] - 31s 57ms/step - loss: 0.0884 - accuracy: 0.9731 - val_loss: 0.0775 - val_accuracy: 0.9768\n",
      "Epoch 14/200\n",
      "539/539 [==============================] - 31s 57ms/step - loss: 0.0885 - accuracy: 0.9730 - val_loss: 0.0785 - val_accuracy: 0.9770\n",
      "Epoch 15/200\n",
      "539/539 [==============================] - 31s 58ms/step - loss: 0.0743 - accuracy: 0.9763 - val_loss: 0.0795 - val_accuracy: 0.9767\n",
      "Epoch 16/200\n",
      "539/539 [==============================] - 31s 57ms/step - loss: 0.0801 - accuracy: 0.9757 - val_loss: 0.2692 - val_accuracy: 0.9331\n",
      "Epoch 17/200\n",
      "539/539 [==============================] - 31s 57ms/step - loss: 0.0877 - accuracy: 0.9748 - val_loss: 3.2332 - val_accuracy: 0.3888\n",
      "Epoch 18/200\n",
      "539/539 [==============================] - 31s 58ms/step - loss: 0.1224 - accuracy: 0.9652 - val_loss: 0.0849 - val_accuracy: 0.9724\n"
     ]
    }
   ],
   "source": [
    "\n",
    "history = MHART.fit(X_train, y_train, epochs=200, batch_size=64, validation_data=(X_test, y_test), callbacks=[early_stopping])\n"
   ]
  },
  {
   "cell_type": "code",
   "execution_count": 28,
   "id": "8866d8f0-2781-4dc6-9f86-2de5381550a5",
   "metadata": {},
   "outputs": [
    {
     "name": "stdout",
     "output_type": "stream",
     "text": [
      "270/270 [==============================] - 4s 13ms/step - loss: 0.0775 - accuracy: 0.9769\n",
      "Test Loss: 0.07753639668226242, Test Accuracy: 0.9768927097320557\n"
     ]
    }
   ],
   "source": [
    "# Evaluate the model on the test data\n",
    "performance = MHART.evaluate(X_test, y_test)\n",
    "print(f\"Test Loss: {performance[0]}, Test Accuracy: {performance[1]}\")"
   ]
  },
  {
   "cell_type": "code",
   "execution_count": 29,
   "id": "a3514e7d-9013-4230-b858-509b7ba8f602",
   "metadata": {},
   "outputs": [
    {
     "name": "stdout",
     "output_type": "stream",
     "text": [
      "1346/1346 [==============================] - 17s 12ms/step\n",
      "              precision    recall  f1-score   support\n",
      "\n",
      "           0       0.98      0.98      0.98      1388\n",
      "           1       0.98      0.97      0.97      1389\n",
      "           2       0.97      0.94      0.96      1389\n",
      "           3       0.99      0.99      0.99      1389\n",
      "           4       0.96      0.91      0.93      1387\n",
      "           5       0.99      1.00      0.99      1390\n",
      "           6       0.98      0.99      0.99      1389\n",
      "           7       0.98      0.98      0.98      1389\n",
      "           8       0.98      1.00      0.99      1389\n",
      "           9       1.00      0.98      0.99      1389\n",
      "          10       0.95      0.96      0.96      1387\n",
      "          11       1.00      1.00      1.00      1390\n",
      "          12       1.00      1.00      1.00      1390\n",
      "          13       0.93      0.98      0.95      1390\n",
      "          14       0.98      1.00      0.99      1389\n",
      "          15       0.98      1.00      0.99      1389\n",
      "          16       1.00      1.00      1.00      1389\n",
      "          17       1.00      1.00      1.00      1389\n",
      "          18       1.00      1.00      1.00      1389\n",
      "          19       1.00      1.00      1.00      1388\n",
      "          20       0.98      0.98      0.98      1390\n",
      "          21       0.96      0.97      0.97      1389\n",
      "          22       0.98      0.94      0.96      1389\n",
      "          23       1.00      1.00      1.00      1389\n",
      "          24       1.00      1.00      1.00      1389\n",
      "          25       1.00      0.99      1.00      1389\n",
      "          26       1.00      1.00      1.00      1389\n",
      "          27       0.99      1.00      0.99      1389\n",
      "          28       1.00      1.00      1.00      1389\n",
      "          29       1.00      1.00      1.00      1389\n",
      "          30       1.00      0.98      0.99      1388\n",
      "\n",
      "    accuracy                           0.98     43057\n",
      "   macro avg       0.98      0.98      0.98     43057\n",
      "weighted avg       0.98      0.98      0.98     43057\n",
      "\n"
     ]
    }
   ],
   "source": [
    "test_predictions = MHART.predict(test_reshaped_data)\n",
    "test_predictions = np.argmax(test_predictions, axis=1)\n",
    "\n",
    "print(classification_report(test_window_labels, test_predictions))\n"
   ]
  },
  {
   "cell_type": "code",
   "execution_count": null,
   "id": "89f46a56-d160-453d-a599-9a11e2e20154",
   "metadata": {},
   "outputs": [],
   "source": []
  },
  {
   "cell_type": "code",
   "execution_count": null,
   "id": "0adbffb2",
   "metadata": {},
   "outputs": [],
   "source": []
  },
  {
   "cell_type": "markdown",
   "id": "1272747e",
   "metadata": {},
   "source": [
    "## Mobile HART Trained on non PD and finetuned on 30% PD Data "
   ]
  },
  {
   "cell_type": "code",
   "execution_count": 33,
   "id": "d250d73f",
   "metadata": {},
   "outputs": [],
   "source": [
    "columns = [\"AccelX(g)_leg\", \"AccelY(g)_leg\", \"AccelZ(g)_leg\", \"GyroX(¬∞/s)_leg\", \"GyroY(¬∞/s)_leg\", \"GyroZ(¬∞/s)_leg\", \"AccelX(g)_hand\", \"AccelY(g)_hand\", \"AccelZ(g)_hand\", \"GyroX(¬∞/s)_hand\", \"GyroY(¬∞/s)_hand\", \"GyroZ(¬∞/s)_hand\", \"AccelX(g)_chest\", \"AccelY(g)_chest\", \"AccelZ(g)_chest\", \"Sample(V)\", \"Activity_Label\"]\n",
    "df = pd.read_csv(\"/home/jupyter-saswar/HealthySubs_Modeling/healthy_smote.csv\", header=0, names=columns)\n",
    "\n",
    "labels = pd.factorize(df['Activity_Label'])[0]\n",
    "\n",
    "feature_columns = df.columns[:-1]  \n",
    "data = df[feature_columns].values"
   ]
  },
  {
   "cell_type": "code",
   "execution_count": 34,
   "id": "821e5766",
   "metadata": {},
   "outputs": [
    {
     "name": "stdout",
     "output_type": "stream",
     "text": [
      "Epoch 1/200\n",
      "533/533 [==============================] - 58s 61ms/step - loss: 1.4851 - accuracy: 0.5028 - val_loss: 3.2631 - val_accuracy: 0.1885\n",
      "Epoch 2/200\n",
      "533/533 [==============================] - 31s 58ms/step - loss: 0.6964 - accuracy: 0.7585 - val_loss: 0.7727 - val_accuracy: 0.7317\n",
      "Epoch 3/200\n",
      "533/533 [==============================] - 31s 58ms/step - loss: 0.5333 - accuracy: 0.8177 - val_loss: 0.6333 - val_accuracy: 0.7903\n",
      "Epoch 4/200\n",
      "533/533 [==============================] - 31s 58ms/step - loss: 0.4712 - accuracy: 0.8412 - val_loss: 0.5126 - val_accuracy: 0.8346\n",
      "Epoch 5/200\n",
      "533/533 [==============================] - 31s 58ms/step - loss: 0.4105 - accuracy: 0.8633 - val_loss: 0.3693 - val_accuracy: 0.8767\n",
      "Epoch 6/200\n",
      "533/533 [==============================] - 31s 58ms/step - loss: 0.3542 - accuracy: 0.8804 - val_loss: 0.5008 - val_accuracy: 0.8419\n",
      "Epoch 7/200\n",
      "533/533 [==============================] - 31s 58ms/step - loss: 0.3247 - accuracy: 0.8918 - val_loss: 0.6939 - val_accuracy: 0.8195\n",
      "Epoch 8/200\n",
      "533/533 [==============================] - 31s 58ms/step - loss: 0.3020 - accuracy: 0.8995 - val_loss: 0.2949 - val_accuracy: 0.9036\n",
      "Epoch 9/200\n",
      "533/533 [==============================] - 31s 58ms/step - loss: 0.2959 - accuracy: 0.9026 - val_loss: 0.3720 - val_accuracy: 0.8929\n",
      "Epoch 10/200\n",
      "533/533 [==============================] - 31s 58ms/step - loss: 0.2541 - accuracy: 0.9161 - val_loss: 0.3915 - val_accuracy: 0.8747\n",
      "Epoch 11/200\n",
      "533/533 [==============================] - 31s 58ms/step - loss: 0.2690 - accuracy: 0.9120 - val_loss: 0.2542 - val_accuracy: 0.9186\n",
      "Epoch 12/200\n",
      "533/533 [==============================] - 31s 58ms/step - loss: 0.2181 - accuracy: 0.9269 - val_loss: 0.2872 - val_accuracy: 0.9156\n",
      "Epoch 13/200\n",
      "533/533 [==============================] - 31s 58ms/step - loss: 0.2186 - accuracy: 0.9283 - val_loss: 0.3420 - val_accuracy: 0.8969\n",
      "Epoch 14/200\n",
      "533/533 [==============================] - 31s 58ms/step - loss: 0.1990 - accuracy: 0.9334 - val_loss: 0.3187 - val_accuracy: 0.9015\n",
      "Epoch 15/200\n",
      "533/533 [==============================] - 31s 58ms/step - loss: 0.1926 - accuracy: 0.9385 - val_loss: 0.2423 - val_accuracy: 0.9247\n",
      "Epoch 16/200\n",
      "533/533 [==============================] - 31s 57ms/step - loss: 0.1684 - accuracy: 0.9440 - val_loss: 0.2595 - val_accuracy: 0.9235\n",
      "Epoch 17/200\n",
      "533/533 [==============================] - 31s 57ms/step - loss: 0.1715 - accuracy: 0.9429 - val_loss: 0.2233 - val_accuracy: 0.9338\n",
      "Epoch 18/200\n",
      "533/533 [==============================] - 30s 57ms/step - loss: 0.1700 - accuracy: 0.9451 - val_loss: 0.2234 - val_accuracy: 0.9362\n",
      "Epoch 19/200\n",
      "533/533 [==============================] - 30s 57ms/step - loss: 0.1409 - accuracy: 0.9543 - val_loss: 0.2606 - val_accuracy: 0.9258\n",
      "Epoch 20/200\n",
      "533/533 [==============================] - 30s 57ms/step - loss: 0.1464 - accuracy: 0.9525 - val_loss: 0.2419 - val_accuracy: 0.9319\n",
      "Epoch 21/200\n",
      "533/533 [==============================] - 31s 57ms/step - loss: 0.1392 - accuracy: 0.9547 - val_loss: 0.2964 - val_accuracy: 0.9151\n",
      "Epoch 22/200\n",
      "533/533 [==============================] - 31s 57ms/step - loss: 0.1261 - accuracy: 0.9571 - val_loss: 0.2196 - val_accuracy: 0.9380\n",
      "Epoch 23/200\n",
      "533/533 [==============================] - 31s 57ms/step - loss: 0.1594 - accuracy: 0.9508 - val_loss: 0.2576 - val_accuracy: 0.9244\n",
      "Epoch 24/200\n",
      "533/533 [==============================] - 31s 57ms/step - loss: 0.1261 - accuracy: 0.9592 - val_loss: 0.2398 - val_accuracy: 0.9316\n",
      "Epoch 25/200\n",
      "533/533 [==============================] - 31s 58ms/step - loss: 0.1225 - accuracy: 0.9608 - val_loss: 0.2191 - val_accuracy: 0.9436\n",
      "Epoch 26/200\n",
      "533/533 [==============================] - 31s 58ms/step - loss: 0.1167 - accuracy: 0.9617 - val_loss: 0.1946 - val_accuracy: 0.9433\n",
      "Epoch 27/200\n",
      "533/533 [==============================] - 31s 58ms/step - loss: 0.1127 - accuracy: 0.9645 - val_loss: 0.2952 - val_accuracy: 0.9173\n",
      "Epoch 28/200\n",
      "533/533 [==============================] - 31s 58ms/step - loss: 0.1107 - accuracy: 0.9635 - val_loss: 0.2478 - val_accuracy: 0.9335\n",
      "Epoch 29/200\n",
      "533/533 [==============================] - 31s 57ms/step - loss: 0.1119 - accuracy: 0.9650 - val_loss: 0.3160 - val_accuracy: 0.9160\n",
      "Epoch 30/200\n",
      "533/533 [==============================] - 32s 59ms/step - loss: 0.0929 - accuracy: 0.9694 - val_loss: 0.2336 - val_accuracy: 0.9376\n",
      "Epoch 31/200\n",
      "533/533 [==============================] - 31s 58ms/step - loss: 0.1011 - accuracy: 0.9669 - val_loss: 0.2536 - val_accuracy: 0.9349\n"
     ]
    }
   ],
   "source": [
    "window_size = 128 \n",
    "step_size = 64    \n",
    "num_features = 16\n",
    "\n",
    "reshaped_data = create_overlapping_windows(data, window_size, step_size, num_features)\n",
    "\n",
    "window_labels = assign_labels_to_windows(labels, window_size, step_size)\n",
    "\n",
    "input_shape = (128, 16)\n",
    "activityCount = len(np.unique(labels))  \n",
    "\n",
    "MHART = model.mobileHART_XS(input_shape, activityCount)\n",
    "\n",
    "X_train, X_test, y_train, y_test = train_test_split(reshaped_data, window_labels, test_size=0.2, random_state=42)\n",
    "\n",
    "MHART.compile(optimizer='adam', loss='sparse_categorical_crossentropy', metrics=['accuracy'])\n",
    "\n",
    "early_stopping = keras.callbacks.EarlyStopping(\n",
    "    monitor='val_loss',\n",
    "    patience=5,\n",
    "    restore_best_weights=True\n",
    ")\n",
    "\n",
    "history = MHART.fit(X_train, y_train, epochs=200, batch_size=64, validation_data=(X_test, y_test), callbacks=[early_stopping])\n"
   ]
  },
  {
   "cell_type": "code",
   "execution_count": 36,
   "id": "4938a8ae",
   "metadata": {},
   "outputs": [
    {
     "name": "stdout",
     "output_type": "stream",
     "text": [
      "267/267 [==============================] - 3s 12ms/step - loss: 0.1946 - accuracy: 0.9433\n",
      "Test Loss: 0.19458618760108948, Test Accuracy: 0.9432699084281921\n"
     ]
    }
   ],
   "source": [
    "performance = MHART.evaluate(X_test, y_test)\n",
    "print(f\"Test Loss: {performance[0]}, Test Accuracy: {performance[1]}\")"
   ]
  },
  {
   "cell_type": "code",
   "execution_count": 37,
   "id": "d5ae92fc-5bd2-4b11-b207-e0d48fb05dda",
   "metadata": {},
   "outputs": [],
   "source": [
    "columns = [\"AccelX(g)_leg\",\"AccelY(g)_leg\",\"AccelZ(g)_leg\",\"GyroX(¬∞/s)_leg\",\"GyroY(¬∞/s)_leg\",\"GyroZ(¬∞/s)_leg\",\"AccelX(g)_hand\",\"AccelY(g)_hand\",\"AccelZ(g)_hand\",\"GyroX(¬∞/s)_hand\",\"GyroY(¬∞/s)_hand\",\"GyroZ(¬∞/s)_hand\",\"AccelX(g)_chest\",\"AccelY(g)_chest\",\"AccelZ(g)_chest\",\"Sample(V)\",\"Activity_Label\"]\n",
    "df = pd.read_csv(\"/home/jupyter-saswar/PD_smote.csv\", header=0, names = columns)\n",
    "\n",
    "from sklearn.preprocessing import LabelEncoder\n",
    "\n",
    "LE = LabelEncoder()\n",
    "df['Activity_Label'] = LE.fit_transform(df['Activity_Label'])"
   ]
  },
  {
   "cell_type": "code",
   "execution_count": 38,
   "id": "d8938cd4-fdac-4125-929e-906548e2260d",
   "metadata": {},
   "outputs": [
    {
     "name": "stdout",
     "output_type": "stream",
     "text": [
      "Epoch 1/200\n",
      "162/162 [==============================] - 12s 74ms/step - loss: 0.9323 - accuracy: 0.7824 - val_loss: 0.2360 - val_accuracy: 0.9342\n",
      "Epoch 2/200\n",
      "162/162 [==============================] - 9s 58ms/step - loss: 0.2474 - accuracy: 0.9256 - val_loss: 0.1890 - val_accuracy: 0.9404\n",
      "Epoch 3/200\n",
      "162/162 [==============================] - 9s 58ms/step - loss: 0.1763 - accuracy: 0.9466 - val_loss: 0.1677 - val_accuracy: 0.9512\n",
      "Epoch 4/200\n",
      "162/162 [==============================] - 9s 58ms/step - loss: 0.1516 - accuracy: 0.9529 - val_loss: 0.1633 - val_accuracy: 0.9524\n",
      "Epoch 5/200\n",
      "162/162 [==============================] - 10s 59ms/step - loss: 0.1220 - accuracy: 0.9628 - val_loss: 0.1269 - val_accuracy: 0.9621\n",
      "Epoch 6/200\n",
      "162/162 [==============================] - 9s 58ms/step - loss: 0.0926 - accuracy: 0.9696 - val_loss: 0.1221 - val_accuracy: 0.9690\n",
      "Epoch 7/200\n",
      "162/162 [==============================] - 9s 59ms/step - loss: 0.0886 - accuracy: 0.9721 - val_loss: 0.1199 - val_accuracy: 0.9663\n",
      "Epoch 8/200\n",
      "162/162 [==============================] - 9s 58ms/step - loss: 0.1049 - accuracy: 0.9684 - val_loss: 0.1338 - val_accuracy: 0.9656\n",
      "Epoch 9/200\n",
      "162/162 [==============================] - 9s 58ms/step - loss: 0.0661 - accuracy: 0.9790 - val_loss: 0.1346 - val_accuracy: 0.9632\n",
      "Epoch 10/200\n",
      "162/162 [==============================] - 10s 59ms/step - loss: 0.0624 - accuracy: 0.9794 - val_loss: 0.1568 - val_accuracy: 0.9574\n",
      "Epoch 11/200\n",
      "162/162 [==============================] - 10s 59ms/step - loss: 0.0644 - accuracy: 0.9799 - val_loss: 0.1089 - val_accuracy: 0.9702\n",
      "Epoch 12/200\n",
      "162/162 [==============================] - 9s 59ms/step - loss: 0.0506 - accuracy: 0.9839 - val_loss: 0.1373 - val_accuracy: 0.9632\n",
      "Epoch 13/200\n",
      "162/162 [==============================] - 9s 59ms/step - loss: 0.0545 - accuracy: 0.9828 - val_loss: 0.1028 - val_accuracy: 0.9729\n",
      "Epoch 14/200\n",
      "162/162 [==============================] - 10s 59ms/step - loss: 0.0496 - accuracy: 0.9841 - val_loss: 0.1057 - val_accuracy: 0.9687\n",
      "Epoch 15/200\n",
      "162/162 [==============================] - 9s 58ms/step - loss: 0.0620 - accuracy: 0.9809 - val_loss: 0.1774 - val_accuracy: 0.9563\n",
      "Epoch 16/200\n",
      "162/162 [==============================] - 9s 59ms/step - loss: 0.0736 - accuracy: 0.9768 - val_loss: 0.1488 - val_accuracy: 0.9671\n",
      "Epoch 17/200\n",
      "162/162 [==============================] - 9s 58ms/step - loss: 0.0590 - accuracy: 0.9813 - val_loss: 0.1244 - val_accuracy: 0.9683\n",
      "Epoch 18/200\n",
      "162/162 [==============================] - 10s 59ms/step - loss: 0.0352 - accuracy: 0.9877 - val_loss: 0.1332 - val_accuracy: 0.9679\n"
     ]
    },
    {
     "data": {
      "text/plain": [
       "<keras.src.callbacks.History at 0x7f9604e77a90>"
      ]
     },
     "execution_count": 38,
     "metadata": {},
     "output_type": "execute_result"
    }
   ],
   "source": [
    "\n",
    "features = df.columns[:-1]  \n",
    "labels_encoded = df['Activity_Label'].values\n",
    "\n",
    "data_filtered = df[features].values\n",
    "\n",
    "window_size = 128\n",
    "step_size = 64\n",
    "num_features = 16\n",
    "\n",
    "reshaped_data_filtered = create_overlapping_windows(data_filtered, window_size, step_size, num_features)\n",
    "\n",
    "window_labels_filtered = assign_labels_to_windows(labels_encoded, window_size, step_size)\n",
    "\n",
    "X_fine_tune, X_test_new, y_fine_tune, y_test_new = train_test_split(reshaped_data_filtered, window_labels_filtered, test_size=0.7, random_state=21)\n",
    "\n",
    "# Fine-tune the model on the 30% subset\n",
    "MHART.fit(X_fine_tune, y_fine_tune, epochs=200, batch_size=64, validation_split=0.2, callbacks=[early_stopping])\n"
   ]
  },
  {
   "cell_type": "code",
   "execution_count": 39,
   "id": "ebc07dc6",
   "metadata": {},
   "outputs": [
    {
     "name": "stdout",
     "output_type": "stream",
     "text": [
      "942/942 [==============================] - 12s 13ms/step - loss: 0.1118 - accuracy: 0.9713\n",
      "Test Loss: 0.11182010918855667, Test Accuracy: 0.9713006019592285\n"
     ]
    }
   ],
   "source": [
    "\n",
    "# Evaluate the model on the remaining 70%\n",
    "performance_new = MHART.evaluate(X_test_new, y_test_new)\n",
    "print(f\"Test Loss: {performance_new[0]}, Test Accuracy: {performance_new[1]}\")\n"
   ]
  },
  {
   "cell_type": "code",
   "execution_count": null,
   "id": "620389ef",
   "metadata": {},
   "outputs": [],
   "source": []
  },
  {
   "cell_type": "code",
   "execution_count": null,
   "id": "e85ae749",
   "metadata": {},
   "outputs": [],
   "source": []
  },
  {
   "cell_type": "markdown",
   "id": "0e92e18d",
   "metadata": {},
   "source": [
    "## Mobile HART Trained on non PD and finetuned on 80% PD Data "
   ]
  },
  {
   "cell_type": "code",
   "execution_count": null,
   "id": "8a657b35",
   "metadata": {},
   "outputs": [],
   "source": []
  },
  {
   "cell_type": "code",
   "execution_count": 40,
   "id": "d8b7f452",
   "metadata": {},
   "outputs": [
    {
     "name": "stdout",
     "output_type": "stream",
     "text": [
      "Epoch 1/200\n",
      "533/533 [==============================] - 58s 60ms/step - loss: 1.9507 - accuracy: 0.3254 - val_loss: 4.0618 - val_accuracy: 0.0608\n",
      "Epoch 2/200\n",
      "533/533 [==============================] - 31s 58ms/step - loss: 1.0031 - accuracy: 0.6495 - val_loss: 0.8818 - val_accuracy: 0.6905\n",
      "Epoch 3/200\n",
      "533/533 [==============================] - 31s 58ms/step - loss: 0.6869 - accuracy: 0.7574 - val_loss: 0.7851 - val_accuracy: 0.7550\n",
      "Epoch 4/200\n",
      "533/533 [==============================] - 31s 58ms/step - loss: 0.5667 - accuracy: 0.8021 - val_loss: 0.5874 - val_accuracy: 0.7952\n",
      "Epoch 5/200\n",
      "533/533 [==============================] - 31s 58ms/step - loss: 0.4772 - accuracy: 0.8352 - val_loss: 0.4976 - val_accuracy: 0.8284\n",
      "Epoch 6/200\n",
      "533/533 [==============================] - 31s 58ms/step - loss: 0.4427 - accuracy: 0.8492 - val_loss: 0.4916 - val_accuracy: 0.8288\n",
      "Epoch 7/200\n",
      "533/533 [==============================] - 31s 58ms/step - loss: 0.3997 - accuracy: 0.8627 - val_loss: 0.4220 - val_accuracy: 0.8599\n",
      "Epoch 8/200\n",
      "533/533 [==============================] - 31s 58ms/step - loss: 0.3640 - accuracy: 0.8772 - val_loss: 0.3738 - val_accuracy: 0.8783\n",
      "Epoch 9/200\n",
      "533/533 [==============================] - 31s 58ms/step - loss: 0.3699 - accuracy: 0.8748 - val_loss: 0.4090 - val_accuracy: 0.8585\n",
      "Epoch 10/200\n",
      "533/533 [==============================] - 31s 58ms/step - loss: 0.3112 - accuracy: 0.8956 - val_loss: 0.3363 - val_accuracy: 0.8871\n",
      "Epoch 11/200\n",
      "533/533 [==============================] - 31s 58ms/step - loss: 0.2830 - accuracy: 0.9036 - val_loss: 0.3098 - val_accuracy: 0.9023\n",
      "Epoch 12/200\n",
      "533/533 [==============================] - 31s 58ms/step - loss: 0.2650 - accuracy: 0.9105 - val_loss: 0.3102 - val_accuracy: 0.8992\n",
      "Epoch 13/200\n",
      "533/533 [==============================] - 31s 58ms/step - loss: 0.2575 - accuracy: 0.9138 - val_loss: 0.3084 - val_accuracy: 0.9003\n",
      "Epoch 14/200\n",
      "533/533 [==============================] - 31s 58ms/step - loss: 0.2320 - accuracy: 0.9210 - val_loss: 0.3312 - val_accuracy: 0.8970\n",
      "Epoch 15/200\n",
      "533/533 [==============================] - 31s 58ms/step - loss: 0.2201 - accuracy: 0.9268 - val_loss: 0.2708 - val_accuracy: 0.9213\n",
      "Epoch 16/200\n",
      "533/533 [==============================] - 31s 58ms/step - loss: 0.1889 - accuracy: 0.9369 - val_loss: 0.3045 - val_accuracy: 0.9084\n",
      "Epoch 17/200\n",
      "533/533 [==============================] - 31s 58ms/step - loss: 0.2032 - accuracy: 0.9335 - val_loss: 0.3380 - val_accuracy: 0.8936\n",
      "Epoch 18/200\n",
      "533/533 [==============================] - 31s 58ms/step - loss: 0.1887 - accuracy: 0.9386 - val_loss: 0.5002 - val_accuracy: 0.8439\n",
      "Epoch 19/200\n",
      "533/533 [==============================] - 31s 58ms/step - loss: 0.2229 - accuracy: 0.9253 - val_loss: 0.2238 - val_accuracy: 0.9325\n",
      "Epoch 20/200\n",
      "533/533 [==============================] - 30s 57ms/step - loss: 0.1722 - accuracy: 0.9432 - val_loss: 0.2554 - val_accuracy: 0.9257\n",
      "Epoch 21/200\n",
      "533/533 [==============================] - 31s 58ms/step - loss: 0.1538 - accuracy: 0.9483 - val_loss: 0.2435 - val_accuracy: 0.9269\n",
      "Epoch 22/200\n",
      "533/533 [==============================] - 31s 58ms/step - loss: 0.1550 - accuracy: 0.9491 - val_loss: 0.2159 - val_accuracy: 0.9396\n",
      "Epoch 23/200\n",
      "533/533 [==============================] - 31s 58ms/step - loss: 0.1450 - accuracy: 0.9526 - val_loss: 0.2793 - val_accuracy: 0.9197\n",
      "Epoch 24/200\n",
      "533/533 [==============================] - 31s 58ms/step - loss: 0.1958 - accuracy: 0.9365 - val_loss: 0.2203 - val_accuracy: 0.9389\n",
      "Epoch 25/200\n",
      "533/533 [==============================] - 31s 58ms/step - loss: 0.1383 - accuracy: 0.9538 - val_loss: 0.2676 - val_accuracy: 0.9252\n",
      "Epoch 26/200\n",
      "533/533 [==============================] - 31s 58ms/step - loss: 0.1397 - accuracy: 0.9528 - val_loss: 0.2696 - val_accuracy: 0.9242\n",
      "Epoch 27/200\n",
      "533/533 [==============================] - 31s 58ms/step - loss: 0.1211 - accuracy: 0.9610 - val_loss: 0.2252 - val_accuracy: 0.9423\n"
     ]
    }
   ],
   "source": [
    "MHART = model.mobileHART_XS(input_shape, activityCount)\n",
    "\n",
    "X_train, X_test, y_train, y_test = train_test_split(reshaped_data, window_labels, test_size=0.2, random_state=42)\n",
    "\n",
    "MHART.compile(optimizer='adam', loss='sparse_categorical_crossentropy', metrics=['accuracy'])\n",
    "\n",
    "early_stopping = keras.callbacks.EarlyStopping(\n",
    "    monitor='val_loss',\n",
    "    patience=5,\n",
    "    restore_best_weights=True\n",
    ")\n",
    "\n",
    "history = MHART.fit(X_train, y_train, epochs=200, batch_size=64, validation_data=(X_test, y_test), callbacks=[early_stopping])\n"
   ]
  },
  {
   "cell_type": "code",
   "execution_count": 42,
   "id": "9ef82908",
   "metadata": {},
   "outputs": [
    {
     "name": "stdout",
     "output_type": "stream",
     "text": [
      "Epoch 1/200\n",
      "431/431 [==============================] - 27s 64ms/step - loss: 0.5598 - accuracy: 0.8581 - val_loss: 0.2073 - val_accuracy: 0.9411\n",
      "Epoch 2/200\n",
      "431/431 [==============================] - 25s 58ms/step - loss: 0.1850 - accuracy: 0.9436 - val_loss: 0.1577 - val_accuracy: 0.9579\n",
      "Epoch 3/200\n",
      "431/431 [==============================] - 25s 58ms/step - loss: 0.1374 - accuracy: 0.9580 - val_loss: 0.1579 - val_accuracy: 0.9588\n",
      "Epoch 4/200\n",
      "431/431 [==============================] - 25s 58ms/step - loss: 0.1169 - accuracy: 0.9653 - val_loss: 0.1620 - val_accuracy: 0.9546\n",
      "Epoch 5/200\n",
      "431/431 [==============================] - 25s 58ms/step - loss: 0.0831 - accuracy: 0.9734 - val_loss: 0.0941 - val_accuracy: 0.9762\n",
      "Epoch 6/200\n",
      "431/431 [==============================] - 25s 58ms/step - loss: 0.0951 - accuracy: 0.9717 - val_loss: 0.1533 - val_accuracy: 0.9608\n",
      "Epoch 7/200\n",
      "431/431 [==============================] - 25s 58ms/step - loss: 0.0851 - accuracy: 0.9739 - val_loss: 0.0963 - val_accuracy: 0.9713\n",
      "Epoch 8/200\n",
      "431/431 [==============================] - 25s 58ms/step - loss: 0.1121 - accuracy: 0.9686 - val_loss: 0.1073 - val_accuracy: 0.9752\n",
      "Epoch 9/200\n",
      "431/431 [==============================] - 25s 58ms/step - loss: 0.0635 - accuracy: 0.9798 - val_loss: 0.1095 - val_accuracy: 0.9742\n",
      "Epoch 10/200\n",
      "431/431 [==============================] - 25s 58ms/step - loss: 0.0598 - accuracy: 0.9807 - val_loss: 0.1071 - val_accuracy: 0.9731\n"
     ]
    },
    {
     "data": {
      "text/plain": [
       "<keras.src.callbacks.History at 0x7f94cad30af0>"
      ]
     },
     "execution_count": 42,
     "metadata": {},
     "output_type": "execute_result"
    }
   ],
   "source": [
    "\n",
    "features = df.columns[:-1]  \n",
    "labels_encoded = df['Activity_Label'].values\n",
    "\n",
    "data_filtered = df[features].values\n",
    "\n",
    "window_size = 128\n",
    "step_size = 64\n",
    "num_features = 16\n",
    "\n",
    "reshaped_data_filtered = create_overlapping_windows(data_filtered, window_size, step_size, num_features)\n",
    "\n",
    "window_labels_filtered = assign_labels_to_windows(labels_encoded, window_size, step_size)\n",
    "\n",
    "X_fine_tune, X_test_new, y_fine_tune, y_test_new = train_test_split(reshaped_data_filtered, window_labels_filtered, test_size=0.2, random_state=21)\n",
    "\n",
    "# Fine-tune the model on the 30% subset\n",
    "MHART.fit(X_fine_tune, y_fine_tune, epochs=200, batch_size=64, validation_split=0.2, callbacks=[early_stopping])\n"
   ]
  },
  {
   "cell_type": "code",
   "execution_count": 43,
   "id": "9a17e176",
   "metadata": {},
   "outputs": [
    {
     "name": "stdout",
     "output_type": "stream",
     "text": [
      "270/270 [==============================] - 3s 12ms/step - loss: 0.0842 - accuracy: 0.9769\n",
      "Test Loss: 0.0842008963227272, Test Accuracy: 0.9768927097320557\n"
     ]
    }
   ],
   "source": [
    "\n",
    "# Evaluate the model on the remaining 20%\n",
    "performance_new = MHART.evaluate(X_test_new, y_test_new)\n",
    "print(f\"Test Loss: {performance_new[0]}, Test Accuracy: {performance_new[1]}\")\n"
   ]
  },
  {
   "cell_type": "code",
   "execution_count": null,
   "id": "58f3580c",
   "metadata": {},
   "outputs": [],
   "source": []
  }
 ],
 "metadata": {
  "kernelspec": {
   "display_name": "Python 3 (ipykernel)",
   "language": "python",
   "name": "python3"
  },
  "language_info": {
   "codemirror_mode": {
    "name": "ipython",
    "version": 3
   },
   "file_extension": ".py",
   "mimetype": "text/x-python",
   "name": "python",
   "nbconvert_exporter": "python",
   "pygments_lexer": "ipython3",
   "version": "3.9.7"
  }
 },
 "nbformat": 4,
 "nbformat_minor": 5
}
