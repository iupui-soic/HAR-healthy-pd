{
 "cells": [
  {
   "cell_type": "code",
   "execution_count": 16,
   "id": "a4041eb7-c4dc-4f28-81bf-4c16f4f13216",
   "metadata": {},
   "outputs": [],
   "source": [
    "import pandas as pd\n",
    "import numpy as np\n",
    "import model\n",
    "from sklearn.model_selection import train_test_split\n",
    "import tensorflow as tf\n",
    "from tensorflow import keras\n",
    "from sklearn.metrics import classification_report\n",
    "import numpy as np\n",
    "from collections import defaultdict\n"
   ]
  },
  {
   "cell_type": "code",
   "execution_count": 3,
   "id": "9c70a6f9-25b7-403b-af20-a44a47048297",
   "metadata": {},
   "outputs": [],
   "source": [
    "columns = [\"AccelX(g)_leg\",\"AccelY(g)_leg\",\"AccelZ(g)_leg\",\"GyroX(¬∞/s)_leg\",\"GyroY(¬∞/s)_leg\",\"GyroZ(¬∞/s)_leg\",\"AccelX(g)_hand\",\"AccelY(g)_hand\",\"AccelZ(g)_hand\",\"GyroX(¬∞/s)_hand\",\"GyroY(¬∞/s)_hand\",\"GyroZ(¬∞/s)_hand\",\"AccelX(g)_chest\",\"AccelY(g)_chest\",\"AccelZ(g)_chest\",\"Sample(V)\",\"Activity_Label\"]\n",
    "df = pd.read_csv(\"/home/jupyter-saswar/HealthySubs_Modeling/healthy_smote.csv\", header=0, names=columns)\n"
   ]
  },
  {
   "cell_type": "code",
   "execution_count": 4,
   "id": "78174d91",
   "metadata": {},
   "outputs": [],
   "source": [
    "labels = pd.factorize(df['Activity_Label'])[0]\n",
    "\n",
    "feature_columns = df.columns[:-1]  \n",
    "data = df[feature_columns].values"
   ]
  },
  {
   "cell_type": "code",
   "execution_count": 5,
   "id": "4557a792-ca16-40b0-8253-257a850d1e8c",
   "metadata": {},
   "outputs": [
    {
     "name": "stderr",
     "output_type": "stream",
     "text": [
      "2024-02-29 01:50:43.563458: I external/local_xla/xla/stream_executor/cuda/cuda_executor.cc:901] successful NUMA node read from SysFS had negative value (-1), but there must be at least one NUMA node, so returning NUMA node zero. See more at https://github.com/torvalds/linux/blob/v6.0/Documentation/ABI/testing/sysfs-bus-pci#L344-L355\n",
      "2024-02-29 01:50:43.563652: I external/local_xla/xla/stream_executor/cuda/cuda_executor.cc:901] successful NUMA node read from SysFS had negative value (-1), but there must be at least one NUMA node, so returning NUMA node zero. See more at https://github.com/torvalds/linux/blob/v6.0/Documentation/ABI/testing/sysfs-bus-pci#L344-L355\n",
      "2024-02-29 01:50:43.582994: I external/local_xla/xla/stream_executor/cuda/cuda_executor.cc:901] successful NUMA node read from SysFS had negative value (-1), but there must be at least one NUMA node, so returning NUMA node zero. See more at https://github.com/torvalds/linux/blob/v6.0/Documentation/ABI/testing/sysfs-bus-pci#L344-L355\n",
      "2024-02-29 01:50:43.583200: I external/local_xla/xla/stream_executor/cuda/cuda_executor.cc:901] successful NUMA node read from SysFS had negative value (-1), but there must be at least one NUMA node, so returning NUMA node zero. See more at https://github.com/torvalds/linux/blob/v6.0/Documentation/ABI/testing/sysfs-bus-pci#L344-L355\n",
      "2024-02-29 01:50:43.583355: I external/local_xla/xla/stream_executor/cuda/cuda_executor.cc:901] successful NUMA node read from SysFS had negative value (-1), but there must be at least one NUMA node, so returning NUMA node zero. See more at https://github.com/torvalds/linux/blob/v6.0/Documentation/ABI/testing/sysfs-bus-pci#L344-L355\n",
      "2024-02-29 01:50:43.583507: I external/local_xla/xla/stream_executor/cuda/cuda_executor.cc:901] successful NUMA node read from SysFS had negative value (-1), but there must be at least one NUMA node, so returning NUMA node zero. See more at https://github.com/torvalds/linux/blob/v6.0/Documentation/ABI/testing/sysfs-bus-pci#L344-L355\n",
      "2024-02-29 01:50:43.658126: I external/local_xla/xla/stream_executor/cuda/cuda_executor.cc:901] successful NUMA node read from SysFS had negative value (-1), but there must be at least one NUMA node, so returning NUMA node zero. See more at https://github.com/torvalds/linux/blob/v6.0/Documentation/ABI/testing/sysfs-bus-pci#L344-L355\n",
      "2024-02-29 01:50:43.658315: I external/local_xla/xla/stream_executor/cuda/cuda_executor.cc:901] successful NUMA node read from SysFS had negative value (-1), but there must be at least one NUMA node, so returning NUMA node zero. See more at https://github.com/torvalds/linux/blob/v6.0/Documentation/ABI/testing/sysfs-bus-pci#L344-L355\n",
      "2024-02-29 01:50:43.658468: I external/local_xla/xla/stream_executor/cuda/cuda_executor.cc:901] successful NUMA node read from SysFS had negative value (-1), but there must be at least one NUMA node, so returning NUMA node zero. See more at https://github.com/torvalds/linux/blob/v6.0/Documentation/ABI/testing/sysfs-bus-pci#L344-L355\n",
      "2024-02-29 01:50:43.658617: I external/local_xla/xla/stream_executor/cuda/cuda_executor.cc:901] successful NUMA node read from SysFS had negative value (-1), but there must be at least one NUMA node, so returning NUMA node zero. See more at https://github.com/torvalds/linux/blob/v6.0/Documentation/ABI/testing/sysfs-bus-pci#L344-L355\n",
      "2024-02-29 01:50:43.658762: I external/local_xla/xla/stream_executor/cuda/cuda_executor.cc:901] successful NUMA node read from SysFS had negative value (-1), but there must be at least one NUMA node, so returning NUMA node zero. See more at https://github.com/torvalds/linux/blob/v6.0/Documentation/ABI/testing/sysfs-bus-pci#L344-L355\n",
      "2024-02-29 01:50:43.658908: I external/local_xla/xla/stream_executor/cuda/cuda_executor.cc:901] successful NUMA node read from SysFS had negative value (-1), but there must be at least one NUMA node, so returning NUMA node zero. See more at https://github.com/torvalds/linux/blob/v6.0/Documentation/ABI/testing/sysfs-bus-pci#L344-L355\n",
      "2024-02-29 01:50:44.981341: I external/local_xla/xla/stream_executor/cuda/cuda_executor.cc:901] successful NUMA node read from SysFS had negative value (-1), but there must be at least one NUMA node, so returning NUMA node zero. See more at https://github.com/torvalds/linux/blob/v6.0/Documentation/ABI/testing/sysfs-bus-pci#L344-L355\n",
      "2024-02-29 01:50:44.981537: I external/local_xla/xla/stream_executor/cuda/cuda_executor.cc:901] successful NUMA node read from SysFS had negative value (-1), but there must be at least one NUMA node, so returning NUMA node zero. See more at https://github.com/torvalds/linux/blob/v6.0/Documentation/ABI/testing/sysfs-bus-pci#L344-L355\n",
      "2024-02-29 01:50:44.981698: I external/local_xla/xla/stream_executor/cuda/cuda_executor.cc:901] successful NUMA node read from SysFS had negative value (-1), but there must be at least one NUMA node, so returning NUMA node zero. See more at https://github.com/torvalds/linux/blob/v6.0/Documentation/ABI/testing/sysfs-bus-pci#L344-L355\n",
      "2024-02-29 01:50:44.981849: I external/local_xla/xla/stream_executor/cuda/cuda_executor.cc:901] successful NUMA node read from SysFS had negative value (-1), but there must be at least one NUMA node, so returning NUMA node zero. See more at https://github.com/torvalds/linux/blob/v6.0/Documentation/ABI/testing/sysfs-bus-pci#L344-L355\n",
      "2024-02-29 01:50:44.982006: I external/local_xla/xla/stream_executor/cuda/cuda_executor.cc:901] successful NUMA node read from SysFS had negative value (-1), but there must be at least one NUMA node, so returning NUMA node zero. See more at https://github.com/torvalds/linux/blob/v6.0/Documentation/ABI/testing/sysfs-bus-pci#L344-L355\n",
      "2024-02-29 01:50:44.982128: I tensorflow/core/common_runtime/gpu/gpu_device.cc:1929] Created device /job:localhost/replica:0/task:0/device:GPU:0 with 22278 MB memory:  -> device: 0, name: NVIDIA GeForce RTX 3090, pci bus id: 0000:0b:00.0, compute capability: 8.6\n",
      "2024-02-29 01:50:44.982411: I external/local_xla/xla/stream_executor/cuda/cuda_executor.cc:901] successful NUMA node read from SysFS had negative value (-1), but there must be at least one NUMA node, so returning NUMA node zero. See more at https://github.com/torvalds/linux/blob/v6.0/Documentation/ABI/testing/sysfs-bus-pci#L344-L355\n",
      "2024-02-29 01:50:44.982544: I tensorflow/core/common_runtime/gpu/gpu_device.cc:1929] Created device /job:localhost/replica:0/task:0/device:GPU:1 with 23654 MB memory:  -> device: 1, name: Quadro P6000, pci bus id: 0000:0a:00.0, compute capability: 6.1\n"
     ]
    }
   ],
   "source": [
    "# define input shape and activity count as per your dataset\n",
    "input_shape = (128, 16)\n",
    "activityCount = 33  \n",
    "\n",
    "HART = model.HART(input_shape, activityCount)\n",
    "MobileHART = model.mobileHART_XS(input_shape, activityCount)"
   ]
  },
  {
   "cell_type": "code",
   "execution_count": 6,
   "id": "d358c783-a50f-454b-8362-c9c2764309fa",
   "metadata": {},
   "outputs": [],
   "source": [
    "def create_overlapping_windows(data, window_size, step_size, features):\n",
    "    segments = []\n",
    "    for start in range(0, len(data) - window_size + 1, step_size):\n",
    "        segment = data[start:start + window_size, :features]\n",
    "        segments.append(segment)\n",
    "    return np.array(segments)\n",
    "\n",
    "window_size = 128  \n",
    "step_size = 64    \n",
    "num_features = 16 \n",
    "\n",
    "reshaped_data = create_overlapping_windows(data, window_size, step_size, num_features)\n",
    "\n",
    "\n",
    "def assign_labels_to_windows(labels, window_size, step_size):\n",
    "    window_labels = []\n",
    "    for start in range(0, len(labels) - window_size + 1, step_size):\n",
    "        window_label = np.bincount(labels[start:start + window_size]).argmax()\n",
    "        window_labels.append(window_label)\n",
    "    return np.array(window_labels)\n",
    "\n",
    "window_labels = assign_labels_to_windows(labels, window_size, step_size)\n"
   ]
  },
  {
   "cell_type": "code",
   "execution_count": 7,
   "id": "947f0a00-7dd1-44e8-a133-6cbaf580dd29",
   "metadata": {},
   "outputs": [],
   "source": [
    "=X_train, X_test, y_train, y_test = train_test_split(reshaped_data, window_labels, test_size=0.2, random_state=21)"
   ]
  },
  {
   "cell_type": "code",
   "execution_count": 8,
   "id": "e5023577-3008-4e22-b32f-273c0d021786",
   "metadata": {},
   "outputs": [],
   "source": [
    "HART.compile(optimizer='adam', loss='sparse_categorical_crossentropy', metrics=['accuracy'])"
   ]
  },
  {
   "cell_type": "code",
   "execution_count": 9,
   "id": "8f8c12c1-ddf0-490a-90ac-25a0961655fc",
   "metadata": {},
   "outputs": [],
   "source": [
    "early_stopping = keras.callbacks.EarlyStopping(\n",
    "    monitor='val_loss',  \n",
    "    patience=5,         \n",
    "    restore_best_weights=True  \n",
    ")"
   ]
  },
  {
   "cell_type": "code",
   "execution_count": 10,
   "id": "7bedd622-33bb-4115-bf99-5534eee7158b",
   "metadata": {
    "scrolled": true
   },
   "outputs": [
    {
     "name": "stdout",
     "output_type": "stream",
     "text": [
      "Epoch 1/200\n"
     ]
    },
    {
     "name": "stderr",
     "output_type": "stream",
     "text": [
      "2024-02-29 01:51:14.628366: I external/local_xla/xla/stream_executor/cuda/cuda_dnn.cc:454] Loaded cuDNN version 8902\n",
      "2024-02-29 01:51:15.433556: I external/local_tsl/tsl/platform/default/subprocess.cc:304] Start cannot spawn child process: No such file or directory\n",
      "2024-02-29 01:51:15.574508: I external/local_tsl/tsl/platform/default/subprocess.cc:304] Start cannot spawn child process: No such file or directory\n",
      "2024-02-29 01:51:16.396121: I external/local_xla/xla/service/service.cc:168] XLA service 0x55e498ca8580 initialized for platform CUDA (this does not guarantee that XLA will be used). Devices:\n",
      "2024-02-29 01:51:16.396152: I external/local_xla/xla/service/service.cc:176]   StreamExecutor device (0): NVIDIA GeForce RTX 3090, Compute Capability 8.6\n",
      "2024-02-29 01:51:16.396162: I external/local_xla/xla/service/service.cc:176]   StreamExecutor device (1): Quadro P6000, Compute Capability 6.1\n",
      "2024-02-29 01:51:16.403249: I tensorflow/compiler/mlir/tensorflow/utils/dump_mlir_util.cc:269] disabling MLIR crash reproducer, set env var `MLIR_CRASH_REPRODUCER_DIRECTORY` to enable.\n",
      "WARNING: All log messages before absl::InitializeLog() is called are written to STDERR\n",
      "I0000 00:00:1709189476.484524 2007162 device_compiler.h:186] Compiled cluster using XLA!  This line is logged at most once for the lifetime of the process.\n"
     ]
    },
    {
     "name": "stdout",
     "output_type": "stream",
     "text": [
      "533/533 [==============================] - 37s 34ms/step - loss: 0.7538 - accuracy: 0.7517 - val_loss: 0.4397 - val_accuracy: 0.8554\n",
      "Epoch 2/200\n",
      "533/533 [==============================] - 17s 32ms/step - loss: 0.3637 - accuracy: 0.8805 - val_loss: 0.3114 - val_accuracy: 0.8952\n",
      "Epoch 3/200\n",
      "533/533 [==============================] - 17s 31ms/step - loss: 0.2601 - accuracy: 0.9157 - val_loss: 0.2267 - val_accuracy: 0.9257\n",
      "Epoch 4/200\n",
      "533/533 [==============================] - 17s 32ms/step - loss: 0.2181 - accuracy: 0.9276 - val_loss: 0.1829 - val_accuracy: 0.9379\n",
      "Epoch 5/200\n",
      "533/533 [==============================] - 17s 31ms/step - loss: 0.1818 - accuracy: 0.9392 - val_loss: 0.2074 - val_accuracy: 0.9308\n",
      "Epoch 6/200\n",
      "533/533 [==============================] - 17s 31ms/step - loss: 0.1621 - accuracy: 0.9463 - val_loss: 0.1588 - val_accuracy: 0.9451\n",
      "Epoch 7/200\n",
      "533/533 [==============================] - 17s 31ms/step - loss: 0.1376 - accuracy: 0.9547 - val_loss: 0.1608 - val_accuracy: 0.9498\n",
      "Epoch 8/200\n",
      "533/533 [==============================] - 17s 31ms/step - loss: 0.1322 - accuracy: 0.9569 - val_loss: 0.1634 - val_accuracy: 0.9486\n",
      "Epoch 9/200\n",
      "533/533 [==============================] - 16s 31ms/step - loss: 0.1120 - accuracy: 0.9624 - val_loss: 0.1582 - val_accuracy: 0.9534\n",
      "Epoch 10/200\n",
      "533/533 [==============================] - 17s 31ms/step - loss: 0.1099 - accuracy: 0.9639 - val_loss: 0.1360 - val_accuracy: 0.9576\n",
      "Epoch 11/200\n",
      "533/533 [==============================] - 17s 31ms/step - loss: 0.0991 - accuracy: 0.9664 - val_loss: 0.1847 - val_accuracy: 0.9500\n",
      "Epoch 12/200\n",
      "533/533 [==============================] - 17s 31ms/step - loss: 0.0799 - accuracy: 0.9726 - val_loss: 0.1494 - val_accuracy: 0.9534\n",
      "Epoch 13/200\n",
      "533/533 [==============================] - 16s 31ms/step - loss: 0.0891 - accuracy: 0.9715 - val_loss: 0.1322 - val_accuracy: 0.9610\n",
      "Epoch 14/200\n",
      "533/533 [==============================] - 17s 31ms/step - loss: 0.0706 - accuracy: 0.9756 - val_loss: 0.1318 - val_accuracy: 0.9623\n",
      "Epoch 15/200\n",
      "533/533 [==============================] - 17s 31ms/step - loss: 0.0683 - accuracy: 0.9776 - val_loss: 0.1571 - val_accuracy: 0.9522\n",
      "Epoch 16/200\n",
      "533/533 [==============================] - 17s 31ms/step - loss: 0.0674 - accuracy: 0.9774 - val_loss: 0.1238 - val_accuracy: 0.9671\n",
      "Epoch 17/200\n",
      "533/533 [==============================] - 16s 31ms/step - loss: 0.0665 - accuracy: 0.9779 - val_loss: 0.1936 - val_accuracy: 0.9516\n",
      "Epoch 18/200\n",
      "533/533 [==============================] - 17s 31ms/step - loss: 0.0601 - accuracy: 0.9804 - val_loss: 0.1469 - val_accuracy: 0.9592\n",
      "Epoch 19/200\n",
      "533/533 [==============================] - 17s 31ms/step - loss: 0.0529 - accuracy: 0.9824 - val_loss: 0.1220 - val_accuracy: 0.9649\n",
      "Epoch 20/200\n",
      "533/533 [==============================] - 17s 32ms/step - loss: 0.0513 - accuracy: 0.9832 - val_loss: 0.1401 - val_accuracy: 0.9609\n",
      "Epoch 21/200\n",
      "533/533 [==============================] - 17s 32ms/step - loss: 0.0511 - accuracy: 0.9832 - val_loss: 0.1385 - val_accuracy: 0.9658\n",
      "Epoch 22/200\n",
      "533/533 [==============================] - 17s 32ms/step - loss: 0.0518 - accuracy: 0.9825 - val_loss: 0.1345 - val_accuracy: 0.9629\n",
      "Epoch 23/200\n",
      "533/533 [==============================] - 17s 32ms/step - loss: 0.0427 - accuracy: 0.9855 - val_loss: 0.1285 - val_accuracy: 0.9684\n",
      "Epoch 24/200\n",
      "533/533 [==============================] - 17s 31ms/step - loss: 0.0449 - accuracy: 0.9851 - val_loss: 0.1204 - val_accuracy: 0.9677\n",
      "Epoch 25/200\n",
      "533/533 [==============================] - 17s 31ms/step - loss: 0.0431 - accuracy: 0.9870 - val_loss: 0.1023 - val_accuracy: 0.9706\n",
      "Epoch 26/200\n",
      "533/533 [==============================] - 17s 31ms/step - loss: 0.0474 - accuracy: 0.9850 - val_loss: 0.1158 - val_accuracy: 0.9677\n",
      "Epoch 27/200\n",
      "533/533 [==============================] - 16s 31ms/step - loss: 0.0391 - accuracy: 0.9875 - val_loss: 0.1245 - val_accuracy: 0.9645\n",
      "Epoch 28/200\n",
      "533/533 [==============================] - 17s 31ms/step - loss: 0.0475 - accuracy: 0.9849 - val_loss: 0.1326 - val_accuracy: 0.9678\n",
      "Epoch 29/200\n",
      "533/533 [==============================] - 17s 31ms/step - loss: 0.0405 - accuracy: 0.9873 - val_loss: 0.1129 - val_accuracy: 0.9696\n",
      "Epoch 30/200\n",
      "533/533 [==============================] - 17s 31ms/step - loss: 0.0350 - accuracy: 0.9888 - val_loss: 0.1357 - val_accuracy: 0.9697\n"
     ]
    }
   ],
   "source": [
    "history = HART.fit(X_train, y_train, epochs=200, batch_size=64, validation_data=(X_test, y_test),callbacks=[early_stopping])"
   ]
  },
  {
   "cell_type": "code",
   "execution_count": 11,
   "id": "bb25cf8f-6185-4d0d-a9ce-69207d0b0587",
   "metadata": {},
   "outputs": [
    {
     "name": "stdout",
     "output_type": "stream",
     "text": [
      "267/267 [==============================] - 2s 8ms/step - loss: 0.1022 - accuracy: 0.9705\n",
      "Test Loss: 0.1021907776594162, Test Accuracy: 0.9705191254615784\n"
     ]
    }
   ],
   "source": [
    "performance = HART.evaluate(X_test, y_test)\n",
    "print(f\"Test Loss: {performance[0]}, Test Accuracy: {performance[1]}\")"
   ]
  },
  {
   "cell_type": "code",
   "execution_count": 12,
   "id": "7056de91-48fa-400f-b153-fb0ba36fefe6",
   "metadata": {},
   "outputs": [
    {
     "name": "stdout",
     "output_type": "stream",
     "text": [
      "267/267 [==============================] - 3s 8ms/step\n",
      "              precision    recall  f1-score   support\n",
      "\n",
      "     Class 0       0.98      0.96      0.97       242\n",
      "     Class 1       0.96      0.98      0.97       277\n",
      "     Class 2       1.00      1.00      1.00       263\n",
      "     Class 3       1.00      0.99      0.99       241\n",
      "     Class 4       0.97      0.92      0.94       241\n",
      "     Class 5       0.99      0.95      0.97       235\n",
      "     Class 6       0.96      1.00      0.98       263\n",
      "     Class 7       0.98      0.99      0.98       262\n",
      "     Class 8       0.99      0.99      0.99       257\n",
      "     Class 9       0.95      0.95      0.95       262\n",
      "    Class 10       0.94      0.93      0.93       261\n",
      "    Class 11       1.00      1.00      1.00       259\n",
      "    Class 12       1.00      0.99      0.99       278\n",
      "    Class 13       0.99      1.00      0.99       282\n",
      "    Class 14       0.98      0.98      0.98       245\n",
      "    Class 15       0.97      0.96      0.97       243\n",
      "    Class 16       0.96      0.99      0.98       263\n",
      "    Class 17       0.95      0.97      0.96       234\n",
      "    Class 18       1.00      1.00      1.00       282\n",
      "    Class 19       1.00      1.00      1.00       252\n",
      "    Class 20       1.00      0.99      0.99       282\n",
      "    Class 21       0.99      1.00      0.99       274\n",
      "    Class 22       0.98      1.00      0.99       237\n",
      "    Class 23       1.00      1.00      1.00       260\n",
      "    Class 24       1.00      0.99      0.99       287\n",
      "    Class 25       0.86      0.93      0.90       258\n",
      "    Class 26       0.94      0.90      0.92       268\n",
      "    Class 27       0.95      0.94      0.95       231\n",
      "    Class 28       0.96      0.88      0.92       248\n",
      "    Class 29       0.89      0.94      0.91       265\n",
      "    Class 30       1.00      0.93      0.96       257\n",
      "    Class 31       0.93      0.98      0.96       260\n",
      "    Class 32       1.00      1.00      1.00       245\n",
      "\n",
      "    accuracy                           0.97      8514\n",
      "   macro avg       0.97      0.97      0.97      8514\n",
      "weighted avg       0.97      0.97      0.97      8514\n",
      "\n"
     ]
    }
   ],
   "source": [
    "y_pred_prob = HART.predict(X_test)  \n",
    "y_pred = np.argmax(y_pred_prob, axis=1)  \n",
    "\n",
    "report = classification_report(y_test, y_pred, target_names=[f\"Class {i}\" for i in range(activityCount)])\n",
    "\n",
    "print(report)\n"
   ]
  },
  {
   "cell_type": "code",
   "execution_count": null,
   "id": "42973931-8879-4083-b8dd-5899530cd3cf",
   "metadata": {},
   "outputs": [],
   "source": []
  },
  {
   "cell_type": "markdown",
   "id": "180f35c0",
   "metadata": {},
   "source": [
    "## Testing the healthy trained model on PD data"
   ]
  },
  {
   "cell_type": "code",
   "execution_count": 13,
   "id": "9362bb98",
   "metadata": {},
   "outputs": [
    {
     "name": "stdout",
     "output_type": "stream",
     "text": [
      "1346/1346 [==============================] - 11s 8ms/step - loss: 21.8884 - accuracy: 0.0119\n",
      "Test Loss: 21.888362884521484, Test Accuracy: 0.01193766389042139\n"
     ]
    }
   ],
   "source": [
    "#read and preprocess the test data\n",
    "test_columns = [\"AccelX(g)_leg\", \"AccelY(g)_leg\", \"AccelZ(g)_leg\", \"GyroX(¬∞/s)_leg\", \"GyroY(¬∞/s)_leg\", \"GyroZ(¬∞/s)_leg\", \"AccelX(g)_hand\", \"AccelY(g)_hand\", \"AccelZ(g)_hand\", \"GyroX(¬∞/s)_hand\", \"GyroY(¬∞/s)_hand\", \"GyroZ(¬∞/s)_hand\", \"AccelX(g)_chest\", \"AccelY(g)_chest\", \"AccelZ(g)_chest\", \"Sample(V)\", \"Activity_Label\"]\n",
    "test_df = pd.read_csv(\"/home/jupyter-saswar/PD_smote.csv\", header=0, names=test_columns)\n",
    "\n",
    "#factorize test labels\n",
    "test_labels = pd.factorize(test_df['Activity_Label'])[0]\n",
    "\n",
    "#select relevant columns for test features\n",
    "test_feature_columns = test_df.columns[:-1]  \n",
    "test_data = test_df[test_feature_columns].values\n",
    "\n",
    "test_reshaped_data = create_overlapping_windows(test_data, window_size, step_size, num_features)\n",
    "\n",
    "test_window_labels = assign_labels_to_windows(test_labels, window_size, step_size)\n",
    "\n",
    "test_performance = HART.evaluate(test_reshaped_data, test_window_labels)\n",
    "print(f\"Test Loss: {test_performance[0]}, Test Accuracy: {test_performance[1]}\")\n"
   ]
  },
  {
   "cell_type": "code",
   "execution_count": 14,
   "id": "779a83a2",
   "metadata": {},
   "outputs": [
    {
     "name": "stdout",
     "output_type": "stream",
     "text": [
      "1346/1346 [==============================] - 10s 8ms/step\n",
      "              precision    recall  f1-score   support\n",
      "\n",
      "           0       0.00      0.00      0.00      1388\n",
      "           1       0.00      0.00      0.00      1389\n",
      "           2       0.00      0.00      0.00      1389\n",
      "           3       0.00      0.00      0.00      1389\n",
      "           4       0.02      0.09      0.03      1387\n",
      "           5       0.00      0.00      0.00      1390\n",
      "           6       0.48      0.24      0.32      1389\n",
      "           7       0.00      0.00      0.00      1389\n",
      "           8       0.00      0.00      0.00      1389\n",
      "           9       0.00      0.00      0.00      1389\n",
      "          10       0.03      0.00      0.01      1387\n",
      "          11       0.13      0.00      0.01      1390\n",
      "          12       0.00      0.00      0.00      1390\n",
      "          13       0.00      0.00      0.00      1390\n",
      "          14       0.00      0.00      0.00      1389\n",
      "          15       0.00      0.00      0.00      1389\n",
      "          16       0.00      0.00      0.00      1389\n",
      "          17       0.00      0.00      0.00      1389\n",
      "          18       0.00      0.00      0.00      1389\n",
      "          19       0.00      0.00      0.00      1388\n",
      "          20       0.00      0.00      0.00      1390\n",
      "          21       0.02      0.03      0.02      1389\n",
      "          22       0.00      0.00      0.00      1389\n",
      "          23       0.00      0.00      0.00      1389\n",
      "          24       0.00      0.00      0.00      1389\n",
      "          25       0.00      0.00      0.00      1389\n",
      "          26       0.00      0.00      0.00      1389\n",
      "          27       0.00      0.00      0.00      1389\n",
      "          28       0.00      0.00      0.00      1389\n",
      "          29       0.00      0.00      0.00      1389\n",
      "          30       0.00      0.00      0.00      1388\n",
      "          31       0.00      0.00      0.00         0\n",
      "          32       0.00      0.00      0.00         0\n",
      "\n",
      "    accuracy                           0.01     43057\n",
      "   macro avg       0.02      0.01      0.01     43057\n",
      "weighted avg       0.02      0.01      0.01     43057\n",
      "\n"
     ]
    },
    {
     "name": "stderr",
     "output_type": "stream",
     "text": [
      "/home/jupyter-saswar/.local/lib/python3.9/site-packages/sklearn/metrics/_classification.py:1497: UndefinedMetricWarning: Recall is ill-defined and being set to 0.0 in labels with no true samples. Use `zero_division` parameter to control this behavior.\n",
      "  _warn_prf(average, modifier, f\"{metric.capitalize()} is\", len(result))\n",
      "/home/jupyter-saswar/.local/lib/python3.9/site-packages/sklearn/metrics/_classification.py:1497: UndefinedMetricWarning: Recall is ill-defined and being set to 0.0 in labels with no true samples. Use `zero_division` parameter to control this behavior.\n",
      "  _warn_prf(average, modifier, f\"{metric.capitalize()} is\", len(result))\n",
      "/home/jupyter-saswar/.local/lib/python3.9/site-packages/sklearn/metrics/_classification.py:1497: UndefinedMetricWarning: Recall is ill-defined and being set to 0.0 in labels with no true samples. Use `zero_division` parameter to control this behavior.\n",
      "  _warn_prf(average, modifier, f\"{metric.capitalize()} is\", len(result))\n"
     ]
    }
   ],
   "source": [
    "\n",
    "#evaluate the model on the test data\n",
    "test_predictions = HART.predict(test_reshaped_data)\n",
    "test_predictions = np.argmax(test_predictions, axis=1)\n",
    "\n",
    "#print classification report\n",
    "print(classification_report(test_window_labels, test_predictions))\n",
    "\n"
   ]
  },
  {
   "cell_type": "code",
   "execution_count": 17,
   "id": "b0cfd0b5",
   "metadata": {},
   "outputs": [
    {
     "name": "stdout",
     "output_type": "stream",
     "text": [
      "                      Label  Count  Total     Ratio\n",
      "267   actual_29_predicted_2   1389   1389  1.000000\n",
      "173  actual_19_predicted_32   1388   1388  1.000000\n",
      "249   actual_25_predicted_2   1389   1389  1.000000\n",
      "160  actual_17_predicted_23   1387   1389  0.998560\n",
      "161  actual_18_predicted_22   1382   1389  0.994960\n",
      "..                      ...    ...    ...       ...\n",
      "309   actual_13_predicted_8      1   1390  0.000719\n",
      "229   actual_5_predicted_10      1   1390  0.000719\n",
      "307  actual_12_predicted_32      1   1390  0.000719\n",
      "288  actual_20_predicted_25      1   1390  0.000719\n",
      "308   actual_13_predicted_2      1   1390  0.000719\n",
      "\n",
      "[321 rows x 4 columns]\n"
     ]
    }
   ],
   "source": [
    "#calculate ratios and generate a DataFrame for detailed analysis\n",
    "\n",
    "label_counts = defaultdict(int)\n",
    "total_counts = defaultdict(int)\n",
    "\n",
    "for i in range(len(test_window_labels)):\n",
    "    actual_label = test_window_labels[i]\n",
    "    predicted_label = test_predictions[i]\n",
    "    label_counts[f\"actual_{actual_label}_predicted_{predicted_label}\"] += 1\n",
    "    total_counts[f\"actual{actual_label}\"] += 1\n",
    "\n",
    "data = []\n",
    "for label, count in label_counts.items():\n",
    "    actual_label = label.split(\"_\")[1]\n",
    "    total = total_counts[f\"actual{actual_label}\"]\n",
    "    ratio = count / total if total > 0 else 0\n",
    "    data.append([label, count, total, ratio])\n",
    "\n",
    "results_df = pd.DataFrame(data, columns=[\"Label\", \"Count\", \"Total\", \"Ratio\"])\n",
    "results_df.sort_values(by=\"Ratio\", ascending=False, inplace=True)\n",
    "print(results_df)\n"
   ]
  },
  {
   "cell_type": "code",
   "execution_count": 18,
   "id": "6ca342fa",
   "metadata": {},
   "outputs": [
    {
     "name": "stdout",
     "output_type": "stream",
     "text": [
      "Tweaked Classification Report for HART\n",
      "      trained on Non PD - Tested on PD\n"
     ]
    },
    {
     "data": {
      "text/html": [
       "<div>\n",
       "<style scoped>\n",
       "    .dataframe tbody tr th:only-of-type {\n",
       "        vertical-align: middle;\n",
       "    }\n",
       "\n",
       "    .dataframe tbody tr th {\n",
       "        vertical-align: top;\n",
       "    }\n",
       "\n",
       "    .dataframe thead th {\n",
       "        text-align: right;\n",
       "    }\n",
       "</style>\n",
       "<table border=\"1\" class=\"dataframe\">\n",
       "  <thead>\n",
       "    <tr style=\"text-align: right;\">\n",
       "      <th></th>\n",
       "      <th>Label</th>\n",
       "      <th>Count</th>\n",
       "      <th>Total</th>\n",
       "      <th>Ratio</th>\n",
       "    </tr>\n",
       "  </thead>\n",
       "  <tbody>\n",
       "    <tr>\n",
       "      <th>267</th>\n",
       "      <td>actual_29_predicted_2</td>\n",
       "      <td>1389</td>\n",
       "      <td>1389</td>\n",
       "      <td>1.000000</td>\n",
       "    </tr>\n",
       "    <tr>\n",
       "      <th>173</th>\n",
       "      <td>actual_19_predicted_32</td>\n",
       "      <td>1388</td>\n",
       "      <td>1388</td>\n",
       "      <td>1.000000</td>\n",
       "    </tr>\n",
       "    <tr>\n",
       "      <th>249</th>\n",
       "      <td>actual_25_predicted_2</td>\n",
       "      <td>1389</td>\n",
       "      <td>1389</td>\n",
       "      <td>1.000000</td>\n",
       "    </tr>\n",
       "    <tr>\n",
       "      <th>160</th>\n",
       "      <td>actual_17_predicted_23</td>\n",
       "      <td>1387</td>\n",
       "      <td>1389</td>\n",
       "      <td>0.998560</td>\n",
       "    </tr>\n",
       "    <tr>\n",
       "      <th>161</th>\n",
       "      <td>actual_18_predicted_22</td>\n",
       "      <td>1382</td>\n",
       "      <td>1389</td>\n",
       "      <td>0.994960</td>\n",
       "    </tr>\n",
       "    <tr>\n",
       "      <th>246</th>\n",
       "      <td>actual_24_predicted_2</td>\n",
       "      <td>1382</td>\n",
       "      <td>1389</td>\n",
       "      <td>0.994960</td>\n",
       "    </tr>\n",
       "    <tr>\n",
       "      <th>123</th>\n",
       "      <td>actual_12_predicted_22</td>\n",
       "      <td>1382</td>\n",
       "      <td>1390</td>\n",
       "      <td>0.994245</td>\n",
       "    </tr>\n",
       "    <tr>\n",
       "      <th>75</th>\n",
       "      <td>actual_8_predicted_22</td>\n",
       "      <td>1365</td>\n",
       "      <td>1389</td>\n",
       "      <td>0.982721</td>\n",
       "    </tr>\n",
       "    <tr>\n",
       "      <th>218</th>\n",
       "      <td>actual_23_predicted_21</td>\n",
       "      <td>1350</td>\n",
       "      <td>1389</td>\n",
       "      <td>0.971922</td>\n",
       "    </tr>\n",
       "    <tr>\n",
       "      <th>136</th>\n",
       "      <td>actual_14_predicted_4</td>\n",
       "      <td>1301</td>\n",
       "      <td>1389</td>\n",
       "      <td>0.936645</td>\n",
       "    </tr>\n",
       "    <tr>\n",
       "      <th>166</th>\n",
       "      <td>actual_7_predicted_26</td>\n",
       "      <td>1283</td>\n",
       "      <td>1389</td>\n",
       "      <td>0.923686</td>\n",
       "    </tr>\n",
       "    <tr>\n",
       "      <th>113</th>\n",
       "      <td>actual_11_predicted_13</td>\n",
       "      <td>1274</td>\n",
       "      <td>1390</td>\n",
       "      <td>0.916547</td>\n",
       "    </tr>\n",
       "    <tr>\n",
       "      <th>152</th>\n",
       "      <td>actual_16_predicted_5</td>\n",
       "      <td>1262</td>\n",
       "      <td>1389</td>\n",
       "      <td>0.908567</td>\n",
       "    </tr>\n",
       "    <tr>\n",
       "      <th>176</th>\n",
       "      <td>actual_20_predicted_26</td>\n",
       "      <td>1260</td>\n",
       "      <td>1390</td>\n",
       "      <td>0.906475</td>\n",
       "    </tr>\n",
       "    <tr>\n",
       "      <th>126</th>\n",
       "      <td>actual_13_predicted_26</td>\n",
       "      <td>1214</td>\n",
       "      <td>1390</td>\n",
       "      <td>0.873381</td>\n",
       "    </tr>\n",
       "    <tr>\n",
       "      <th>5</th>\n",
       "      <td>actual_1_predicted_4</td>\n",
       "      <td>1198</td>\n",
       "      <td>1389</td>\n",
       "      <td>0.862491</td>\n",
       "    </tr>\n",
       "    <tr>\n",
       "      <th>262</th>\n",
       "      <td>actual_28_predicted_24</td>\n",
       "      <td>1151</td>\n",
       "      <td>1389</td>\n",
       "      <td>0.828654</td>\n",
       "    </tr>\n",
       "    <tr>\n",
       "      <th>277</th>\n",
       "      <td>actual_26_predicted_4</td>\n",
       "      <td>1079</td>\n",
       "      <td>1389</td>\n",
       "      <td>0.776818</td>\n",
       "    </tr>\n",
       "    <tr>\n",
       "      <th>180</th>\n",
       "      <td>actual_21_predicted_4</td>\n",
       "      <td>1055</td>\n",
       "      <td>1389</td>\n",
       "      <td>0.759539</td>\n",
       "    </tr>\n",
       "    <tr>\n",
       "      <th>42</th>\n",
       "      <td>actual_6_predicted_2</td>\n",
       "      <td>944</td>\n",
       "      <td>1389</td>\n",
       "      <td>0.679626</td>\n",
       "    </tr>\n",
       "  </tbody>\n",
       "</table>\n",
       "</div>"
      ],
      "text/plain": [
       "                      Label  Count  Total     Ratio\n",
       "267   actual_29_predicted_2   1389   1389  1.000000\n",
       "173  actual_19_predicted_32   1388   1388  1.000000\n",
       "249   actual_25_predicted_2   1389   1389  1.000000\n",
       "160  actual_17_predicted_23   1387   1389  0.998560\n",
       "161  actual_18_predicted_22   1382   1389  0.994960\n",
       "246   actual_24_predicted_2   1382   1389  0.994960\n",
       "123  actual_12_predicted_22   1382   1390  0.994245\n",
       "75    actual_8_predicted_22   1365   1389  0.982721\n",
       "218  actual_23_predicted_21   1350   1389  0.971922\n",
       "136   actual_14_predicted_4   1301   1389  0.936645\n",
       "166   actual_7_predicted_26   1283   1389  0.923686\n",
       "113  actual_11_predicted_13   1274   1390  0.916547\n",
       "152   actual_16_predicted_5   1262   1389  0.908567\n",
       "176  actual_20_predicted_26   1260   1390  0.906475\n",
       "126  actual_13_predicted_26   1214   1390  0.873381\n",
       "5      actual_1_predicted_4   1198   1389  0.862491\n",
       "262  actual_28_predicted_24   1151   1389  0.828654\n",
       "277   actual_26_predicted_4   1079   1389  0.776818\n",
       "180   actual_21_predicted_4   1055   1389  0.759539\n",
       "42     actual_6_predicted_2    944   1389  0.679626"
      ]
     },
     "execution_count": 18,
     "metadata": {},
     "output_type": "execute_result"
    }
   ],
   "source": [
    "print('''Tweaked Classification Report for HART\n",
    "      trained on Non PD - Tested on PD''')\n",
    "results_df.head(20)"
   ]
  },
  {
   "cell_type": "code",
   "execution_count": null,
   "id": "3aab3ee0",
   "metadata": {},
   "outputs": [],
   "source": []
  },
  {
   "cell_type": "code",
   "execution_count": null,
   "id": "6cf97aff",
   "metadata": {},
   "outputs": [],
   "source": []
  },
  {
   "cell_type": "markdown",
   "id": "5519a08c",
   "metadata": {},
   "source": [
    "##  HART Trained on non PD and finetuned on 30% PD Data "
   ]
  },
  {
   "cell_type": "code",
   "execution_count": 20,
   "id": "966446d6",
   "metadata": {},
   "outputs": [],
   "source": [
    "columns = [\"AccelX(g)_leg\",\"AccelY(g)_leg\",\"AccelZ(g)_leg\",\"GyroX(¬∞/s)_leg\",\"GyroY(¬∞/s)_leg\",\"GyroZ(¬∞/s)_leg\",\"AccelX(g)_hand\",\"AccelY(g)_hand\",\"AccelZ(g)_hand\",\"GyroX(¬∞/s)_hand\",\"GyroY(¬∞/s)_hand\",\"GyroZ(¬∞/s)_hand\",\"AccelX(g)_chest\",\"AccelY(g)_chest\",\"AccelZ(g)_chest\",\"Sample(V)\",\"Activity_Label\"]\n",
    "df = pd.read_csv(\"/home/jupyter-saswar/PD_smote.csv\", header=0, names = columns)\n",
    "\n",
    "from sklearn.preprocessing import LabelEncoder\n",
    "\n",
    "LE = LabelEncoder()\n",
    "df['Activity_Label'] = LE.fit_transform(df['Activity_Label'])"
   ]
  },
  {
   "cell_type": "code",
   "execution_count": 22,
   "id": "7f94ca79",
   "metadata": {},
   "outputs": [
    {
     "name": "stdout",
     "output_type": "stream",
     "text": [
      "Epoch 1/200\n",
      "162/162 [==============================] - 6s 34ms/step - loss: 0.7272 - accuracy: 0.8566 - val_loss: 0.1420 - val_accuracy: 0.9605\n",
      "Epoch 2/200\n",
      "162/162 [==============================] - 5s 32ms/step - loss: 0.1204 - accuracy: 0.9670 - val_loss: 0.0834 - val_accuracy: 0.9787\n",
      "Epoch 3/200\n",
      "162/162 [==============================] - 5s 32ms/step - loss: 0.0812 - accuracy: 0.9759 - val_loss: 0.0626 - val_accuracy: 0.9814\n",
      "Epoch 4/200\n",
      "162/162 [==============================] - 5s 32ms/step - loss: 0.0611 - accuracy: 0.9822 - val_loss: 0.0568 - val_accuracy: 0.9826\n",
      "Epoch 5/200\n",
      "162/162 [==============================] - 5s 32ms/step - loss: 0.0482 - accuracy: 0.9871 - val_loss: 0.0625 - val_accuracy: 0.9814\n",
      "Epoch 6/200\n",
      "162/162 [==============================] - 5s 32ms/step - loss: 0.0389 - accuracy: 0.9877 - val_loss: 0.0530 - val_accuracy: 0.9834\n",
      "Epoch 7/200\n",
      "162/162 [==============================] - 5s 32ms/step - loss: 0.0305 - accuracy: 0.9907 - val_loss: 0.0518 - val_accuracy: 0.9857\n",
      "Epoch 8/200\n",
      "162/162 [==============================] - 5s 32ms/step - loss: 0.0271 - accuracy: 0.9914 - val_loss: 0.0613 - val_accuracy: 0.9822\n",
      "Epoch 9/200\n",
      "162/162 [==============================] - 5s 32ms/step - loss: 0.0244 - accuracy: 0.9916 - val_loss: 0.0580 - val_accuracy: 0.9845\n",
      "Epoch 10/200\n",
      "162/162 [==============================] - 5s 32ms/step - loss: 0.0202 - accuracy: 0.9945 - val_loss: 0.0519 - val_accuracy: 0.9853\n",
      "Epoch 11/200\n",
      "162/162 [==============================] - 5s 32ms/step - loss: 0.0224 - accuracy: 0.9940 - val_loss: 0.0633 - val_accuracy: 0.9826\n",
      "Epoch 12/200\n",
      "162/162 [==============================] - 5s 33ms/step - loss: 0.0172 - accuracy: 0.9942 - val_loss: 0.0485 - val_accuracy: 0.9868\n",
      "Epoch 13/200\n",
      "162/162 [==============================] - 5s 32ms/step - loss: 0.0163 - accuracy: 0.9941 - val_loss: 0.0586 - val_accuracy: 0.9845\n",
      "Epoch 14/200\n",
      "162/162 [==============================] - 5s 31ms/step - loss: 0.0132 - accuracy: 0.9955 - val_loss: 0.0570 - val_accuracy: 0.9849\n",
      "Epoch 15/200\n",
      "162/162 [==============================] - 5s 31ms/step - loss: 0.0220 - accuracy: 0.9930 - val_loss: 0.0756 - val_accuracy: 0.9807\n",
      "Epoch 16/200\n",
      "162/162 [==============================] - 5s 32ms/step - loss: 0.0122 - accuracy: 0.9958 - val_loss: 0.0714 - val_accuracy: 0.9834\n",
      "Epoch 17/200\n",
      "162/162 [==============================] - 5s 32ms/step - loss: 0.0146 - accuracy: 0.9952 - val_loss: 0.0720 - val_accuracy: 0.9830\n"
     ]
    },
    {
     "data": {
      "text/plain": [
       "<keras.src.callbacks.History at 0x7f25247a7a60>"
      ]
     },
     "execution_count": 22,
     "metadata": {},
     "output_type": "execute_result"
    }
   ],
   "source": [
    "\n",
    "features = df.columns[:-1]  \n",
    "labels_encoded = df['Activity_Label'].values\n",
    "\n",
    "data_filtered = df[features].values\n",
    "\n",
    "window_size = 128\n",
    "step_size = 64\n",
    "num_features = 16\n",
    "\n",
    "reshaped_data_filtered = create_overlapping_windows(data_filtered, window_size, step_size, num_features)\n",
    "\n",
    "window_labels_filtered = assign_labels_to_windows(labels_encoded, window_size, step_size)\n",
    "\n",
    "X_fine_tune, X_test_new, y_fine_tune, y_test_new = train_test_split(reshaped_data_filtered, window_labels_filtered, test_size=0.7, random_state=21)\n",
    "\n",
    "# Fine-tune the model on the 30% subset\n",
    "HART.fit(X_fine_tune, y_fine_tune, epochs=200, batch_size=64, validation_split=0.2, callbacks=[early_stopping])\n"
   ]
  },
  {
   "cell_type": "code",
   "execution_count": 23,
   "id": "5619ea45-6179-448f-9fd1-0b20b647b4de",
   "metadata": {},
   "outputs": [
    {
     "name": "stdout",
     "output_type": "stream",
     "text": [
      "942/942 [==============================] - 8s 8ms/step - loss: 0.0599 - accuracy: 0.9858\n",
      "Test Loss: 0.05994854494929314, Test Accuracy: 0.9858327507972717\n"
     ]
    }
   ],
   "source": [
    "\n",
    "# Evaluate the model on the remaining 70%\n",
    "performance_new = HART.evaluate(X_test_new, y_test_new)\n",
    "print(f\"Test Loss: {performance_new[0]}, Test Accuracy: {performance_new[1]}\")\n"
   ]
  },
  {
   "cell_type": "code",
   "execution_count": null,
   "id": "8922f452-da68-4d0e-bb86-d8be7d084847",
   "metadata": {},
   "outputs": [],
   "source": []
  },
  {
   "cell_type": "code",
   "execution_count": null,
   "id": "7327bff2",
   "metadata": {},
   "outputs": [],
   "source": []
  },
  {
   "cell_type": "markdown",
   "id": "bb91f0e9",
   "metadata": {},
   "source": [
    "##  HART Trained on non PD and finetuned on 80% PD Data "
   ]
  },
  {
   "cell_type": "code",
   "execution_count": 24,
   "id": "ee5aa356",
   "metadata": {},
   "outputs": [
    {
     "name": "stdout",
     "output_type": "stream",
     "text": [
      "Epoch 1/200\n",
      "533/533 [==============================] - 31s 33ms/step - loss: 0.2236 - accuracy: 0.9421 - val_loss: 0.0823 - val_accuracy: 0.9760\n",
      "Epoch 2/200\n",
      "533/533 [==============================] - 17s 31ms/step - loss: 0.0670 - accuracy: 0.9791 - val_loss: 0.0474 - val_accuracy: 0.9854\n",
      "Epoch 3/200\n",
      "533/533 [==============================] - 17s 31ms/step - loss: 0.0525 - accuracy: 0.9833 - val_loss: 0.0591 - val_accuracy: 0.9823\n",
      "Epoch 4/200\n",
      "533/533 [==============================] - 17s 31ms/step - loss: 0.0434 - accuracy: 0.9855 - val_loss: 0.0585 - val_accuracy: 0.9837\n",
      "Epoch 5/200\n",
      "533/533 [==============================] - 17s 31ms/step - loss: 0.0449 - accuracy: 0.9847 - val_loss: 0.0542 - val_accuracy: 0.9821\n",
      "Epoch 6/200\n",
      "533/533 [==============================] - 17s 31ms/step - loss: 0.0540 - accuracy: 0.9830 - val_loss: 0.0576 - val_accuracy: 0.9826\n",
      "Epoch 7/200\n",
      "533/533 [==============================] - 17s 32ms/step - loss: 0.0356 - accuracy: 0.9876 - val_loss: 0.0671 - val_accuracy: 0.9829\n"
     ]
    }
   ],
   "source": [
    "columns = [\"AccelX(g)_leg\",\"AccelY(g)_leg\",\"AccelZ(g)_leg\",\"GyroX(¬∞/s)_leg\",\"GyroY(¬∞/s)_leg\",\"GyroZ(¬∞/s)_leg\",\"AccelX(g)_hand\",\"AccelY(g)_hand\",\"AccelZ(g)_hand\",\"GyroX(¬∞/s)_hand\",\"GyroY(¬∞/s)_hand\",\"GyroZ(¬∞/s)_hand\",\"AccelX(g)_chest\",\"AccelY(g)_chest\",\"AccelZ(g)_chest\",\"Sample(V)\",\"Activity_Label\"]\n",
    "df = pd.read_csv(\"/home/jupyter-saswar/HealthySubs_Modeling/healthy_smote.csv\", header=0, names=columns)\n",
    "labels = pd.factorize(df['Activity_Label'])[0]\n",
    "\n",
    "feature_columns = df.columns[:-1]  \n",
    "data = df[feature_columns].values\n",
    "\n",
    "def create_overlapping_windows(data, window_size, step_size, features):\n",
    "    segments = []\n",
    "    for start in range(0, len(data) - window_size + 1, step_size):\n",
    "        segment = data[start:start + window_size, :features]\n",
    "        segments.append(segment)\n",
    "    return np.array(segments)\n",
    "\n",
    "# Define parameters\n",
    "window_size = 128  \n",
    "step_size = 64    \n",
    "num_features = 16 \n",
    "\n",
    "reshaped_data = create_overlapping_windows(data, window_size, step_size, num_features)\n",
    "\n",
    "\n",
    "def assign_labels_to_windows(labels, window_size, step_size):\n",
    "    window_labels = []\n",
    "    for start in range(0, len(labels) - window_size + 1, step_size):\n",
    "        window_label = np.bincount(labels[start:start + window_size]).argmax()\n",
    "        window_labels.append(window_label)\n",
    "    return np.array(window_labels)\n",
    "\n",
    "window_labels = assign_labels_to_windows(labels, window_size, step_size)\n",
    "\n",
    "\n",
    "X_train, X_test, y_train, y_test = train_test_split(reshaped_data, window_labels, test_size=0.2, random_state=42)\n",
    "\n",
    "HART.compile(optimizer='adam', loss='sparse_categorical_crossentropy', metrics=['accuracy'])\n",
    "\n",
    "early_stopping = keras.callbacks.EarlyStopping(\n",
    "    monitor='val_loss',\n",
    "    patience=5,\n",
    "    restore_best_weights=True\n",
    ")\n",
    "\n",
    "history = HART.fit(X_train, y_train, epochs=200, batch_size=64, validation_data=(X_test, y_test), callbacks=[early_stopping])\n"
   ]
  },
  {
   "cell_type": "code",
   "execution_count": 25,
   "id": "cd18320b",
   "metadata": {},
   "outputs": [],
   "source": [
    "columns = [\"AccelX(g)_leg\",\"AccelY(g)_leg\",\"AccelZ(g)_leg\",\"GyroX(¬∞/s)_leg\",\"GyroY(¬∞/s)_leg\",\"GyroZ(¬∞/s)_leg\",\"AccelX(g)_hand\",\"AccelY(g)_hand\",\"AccelZ(g)_hand\",\"GyroX(¬∞/s)_hand\",\"GyroY(¬∞/s)_hand\",\"GyroZ(¬∞/s)_hand\",\"AccelX(g)_chest\",\"AccelY(g)_chest\",\"AccelZ(g)_chest\",\"Sample(V)\",\"Activity_Label\"]\n",
    "df = pd.read_csv(\"/home/jupyter-saswar/PD_smote.csv\", header=0, names = columns)\n",
    "\n",
    "from sklearn.preprocessing import LabelEncoder\n",
    "\n",
    "LE = LabelEncoder()\n",
    "df['Activity_Label'] = LE.fit_transform(df['Activity_Label'])"
   ]
  },
  {
   "cell_type": "code",
   "execution_count": 26,
   "id": "da79899f",
   "metadata": {},
   "outputs": [
    {
     "name": "stdout",
     "output_type": "stream",
     "text": [
      "Epoch 1/200\n",
      "431/431 [==============================] - 14s 33ms/step - loss: 0.0816 - accuracy: 0.9769 - val_loss: 0.0236 - val_accuracy: 0.9930\n",
      "Epoch 2/200\n",
      "431/431 [==============================] - 14s 31ms/step - loss: 0.0403 - accuracy: 0.9881 - val_loss: 0.0233 - val_accuracy: 0.9929\n",
      "Epoch 3/200\n",
      "431/431 [==============================] - 13s 31ms/step - loss: 0.0298 - accuracy: 0.9905 - val_loss: 0.0261 - val_accuracy: 0.9920\n",
      "Epoch 4/200\n",
      "431/431 [==============================] - 13s 31ms/step - loss: 0.0273 - accuracy: 0.9916 - val_loss: 0.0200 - val_accuracy: 0.9936\n",
      "Epoch 5/200\n",
      "431/431 [==============================] - 13s 31ms/step - loss: 0.0204 - accuracy: 0.9933 - val_loss: 0.0274 - val_accuracy: 0.9900\n",
      "Epoch 6/200\n",
      "431/431 [==============================] - 14s 31ms/step - loss: 0.0180 - accuracy: 0.9939 - val_loss: 0.0291 - val_accuracy: 0.9914\n",
      "Epoch 7/200\n",
      "431/431 [==============================] - 13s 31ms/step - loss: 0.0182 - accuracy: 0.9938 - val_loss: 0.0251 - val_accuracy: 0.9933\n",
      "Epoch 8/200\n",
      "431/431 [==============================] - 13s 31ms/step - loss: 0.0204 - accuracy: 0.9935 - val_loss: 0.0251 - val_accuracy: 0.9906\n",
      "Epoch 9/200\n",
      "431/431 [==============================] - 13s 31ms/step - loss: 0.0216 - accuracy: 0.9930 - val_loss: 0.0344 - val_accuracy: 0.9909\n"
     ]
    },
    {
     "data": {
      "text/plain": [
       "<keras.src.callbacks.History at 0x7f2603aaae50>"
      ]
     },
     "execution_count": 26,
     "metadata": {},
     "output_type": "execute_result"
    }
   ],
   "source": [
    "features = df.columns[:-1]  \n",
    "labels_encoded = df['Activity_Label'].values\n",
    "\n",
    "data_filtered = df[features].values\n",
    "\n",
    "window_size = 128\n",
    "step_size = 64\n",
    "num_features = 16\n",
    "\n",
    "reshaped_data_filtered = create_overlapping_windows(data_filtered, window_size, step_size, num_features)\n",
    "\n",
    "window_labels_filtered = assign_labels_to_windows(labels_encoded, window_size, step_size)\n",
    "\n",
    "X_fine_tune, X_test_new, y_fine_tune, y_test_new = train_test_split(reshaped_data_filtered, window_labels_filtered, test_size=0.2, random_state=21)\n",
    "\n",
    "# Fine-tune the model on the 80% subset\n",
    "HART.fit(X_fine_tune, y_fine_tune, epochs=200, batch_size=64, validation_split=0.2, callbacks=[early_stopping])\n"
   ]
  },
  {
   "cell_type": "code",
   "execution_count": 27,
   "id": "21701e89",
   "metadata": {},
   "outputs": [
    {
     "name": "stdout",
     "output_type": "stream",
     "text": [
      "270/270 [==============================] - 2s 8ms/step - loss: 0.0320 - accuracy: 0.9895\n",
      "Test Loss: 0.032017454504966736, Test Accuracy: 0.989549458026886\n"
     ]
    }
   ],
   "source": [
    "\n",
    "# Evaluate the model on the remaining 20%\n",
    "performance_new = HART.evaluate(X_test_new, y_test_new)\n",
    "print(f\"Test Loss: {performance_new[0]}, Test Accuracy: {performance_new[1]}\")"
   ]
  },
  {
   "cell_type": "code",
   "execution_count": null,
   "id": "419b778b",
   "metadata": {},
   "outputs": [],
   "source": []
  },
  {
   "cell_type": "code",
   "execution_count": null,
   "id": "94efd628",
   "metadata": {},
   "outputs": [],
   "source": []
  },
  {
   "cell_type": "markdown",
   "id": "28bd67ba",
   "metadata": {},
   "source": [
    "##  HART on PD Smote Data\n"
   ]
  },
  {
   "cell_type": "code",
   "execution_count": 28,
   "id": "84fbf536",
   "metadata": {},
   "outputs": [],
   "source": [
    "columns = [\"AccelX(g)_leg\", \"AccelY(g)_leg\", \"AccelZ(g)_leg\", \"GyroX(¬∞/s)_leg\", \"GyroY(¬∞/s)_leg\", \"GyroZ(¬∞/s)_leg\", \"AccelX(g)_hand\", \"AccelY(g)_hand\", \"AccelZ(g)_hand\", \"GyroX(¬∞/s)_hand\", \"GyroY(¬∞/s)_hand\", \"GyroZ(¬∞/s)_hand\", \"AccelX(g)_chest\", \"AccelY(g)_chest\", \"AccelZ(g)_chest\", \"Sample(V)\", \"Activity_Label\"]\n",
    "df1 = pd.read_csv(\"/home/jupyter-saswar/PD_smote.csv\", header=0, names=columns)\n",
    "\n",
    "labels = pd.factorize(df1['Activity_Label'])[0]\n",
    "\n",
    "feature_columns = df1.columns[:-1] \n",
    "data = df1[feature_columns].values"
   ]
  },
  {
   "cell_type": "code",
   "execution_count": 29,
   "id": "2e9264f1",
   "metadata": {},
   "outputs": [],
   "source": [
    "#define parameters for overlapping windows\n",
    "window_size = 128 \n",
    "step_size = 64    \n",
    "num_features = 16 \n",
    "\n",
    "reshaped_data = create_overlapping_windows(data, window_size, step_size, num_features)\n",
    "\n",
    "window_labels = assign_labels_to_windows(labels, window_size, step_size)\n",
    "\n",
    "input_shape = (128, 16)\n",
    "activityCount = len(np.unique(labels)) \n"
   ]
  },
  {
   "cell_type": "code",
   "execution_count": 30,
   "id": "e94f6f0c",
   "metadata": {},
   "outputs": [],
   "source": [
    "HART = model.HART(input_shape, activityCount)\n",
    "\n",
    "X_train, X_test, y_train, y_test = train_test_split(reshaped_data, window_labels, test_size=0.2, random_state=42)\n",
    "\n",
    "HART.compile(optimizer='adam', loss='sparse_categorical_crossentropy', metrics=['accuracy'])\n",
    "\n",
    "early_stopping = keras.callbacks.EarlyStopping(\n",
    "    monitor='val_loss',\n",
    "    patience=5,\n",
    "    restore_best_weights=True\n",
    ")\n"
   ]
  },
  {
   "cell_type": "code",
   "execution_count": 31,
   "id": "be119833",
   "metadata": {},
   "outputs": [
    {
     "name": "stdout",
     "output_type": "stream",
     "text": [
      "Epoch 1/200\n",
      "539/539 [==============================] - 32s 34ms/step - loss: 0.2984 - accuracy: 0.9186 - val_loss: 0.1659 - val_accuracy: 0.9475\n",
      "Epoch 2/200\n",
      "539/539 [==============================] - 17s 31ms/step - loss: 0.1022 - accuracy: 0.9704 - val_loss: 0.1115 - val_accuracy: 0.9652\n",
      "Epoch 3/200\n",
      "539/539 [==============================] - 17s 32ms/step - loss: 0.0828 - accuracy: 0.9751 - val_loss: 0.0847 - val_accuracy: 0.9761\n",
      "Epoch 4/200\n",
      "539/539 [==============================] - 17s 31ms/step - loss: 0.0647 - accuracy: 0.9800 - val_loss: 0.0680 - val_accuracy: 0.9788\n",
      "Epoch 5/200\n",
      "539/539 [==============================] - 17s 32ms/step - loss: 0.0577 - accuracy: 0.9818 - val_loss: 0.1554 - val_accuracy: 0.9609\n",
      "Epoch 6/200\n",
      "539/539 [==============================] - 17s 32ms/step - loss: 0.0545 - accuracy: 0.9833 - val_loss: 0.0766 - val_accuracy: 0.9793\n",
      "Epoch 7/200\n",
      "539/539 [==============================] - 17s 32ms/step - loss: 0.0490 - accuracy: 0.9846 - val_loss: 0.0629 - val_accuracy: 0.9811\n",
      "Epoch 8/200\n",
      "539/539 [==============================] - 17s 32ms/step - loss: 0.0399 - accuracy: 0.9875 - val_loss: 0.0540 - val_accuracy: 0.9839\n",
      "Epoch 9/200\n",
      "539/539 [==============================] - 17s 32ms/step - loss: 0.0412 - accuracy: 0.9862 - val_loss: 0.0634 - val_accuracy: 0.9828\n",
      "Epoch 10/200\n",
      "539/539 [==============================] - 17s 32ms/step - loss: 0.0426 - accuracy: 0.9864 - val_loss: 0.0651 - val_accuracy: 0.9797\n",
      "Epoch 11/200\n",
      "539/539 [==============================] - 17s 31ms/step - loss: 0.0337 - accuracy: 0.9892 - val_loss: 0.0564 - val_accuracy: 0.9853\n",
      "Epoch 12/200\n",
      "539/539 [==============================] - 17s 32ms/step - loss: 0.0349 - accuracy: 0.9889 - val_loss: 0.0590 - val_accuracy: 0.9870\n",
      "Epoch 13/200\n",
      "539/539 [==============================] - 17s 32ms/step - loss: 0.0306 - accuracy: 0.9898 - val_loss: 0.0586 - val_accuracy: 0.9826\n"
     ]
    }
   ],
   "source": [
    "history = HART.fit(X_train, y_train, epochs=200, batch_size=64, validation_data=(X_test, y_test), callbacks=[early_stopping])\n"
   ]
  },
  {
   "cell_type": "code",
   "execution_count": 32,
   "id": "507b627d",
   "metadata": {},
   "outputs": [
    {
     "name": "stdout",
     "output_type": "stream",
     "text": [
      "270/270 [==============================] - 2s 8ms/step - loss: 0.0540 - accuracy: 0.9841\n",
      "Test Loss: 0.054036714136600494, Test Accuracy: 0.9840919375419617\n"
     ]
    }
   ],
   "source": [
    "performance = HART.evaluate(X_test, y_test)\n",
    "print(f\"Test Loss: {performance[0]}, Test Accuracy: {performance[1]}\")"
   ]
  },
  {
   "cell_type": "code",
   "execution_count": 33,
   "id": "0a1e1f15",
   "metadata": {},
   "outputs": [
    {
     "name": "stdout",
     "output_type": "stream",
     "text": [
      "1346/1346 [==============================] - 11s 8ms/step\n",
      "              precision    recall  f1-score   support\n",
      "\n",
      "           0       0.98      0.97      0.97      1388\n",
      "           1       0.97      0.98      0.97      1389\n",
      "           2       0.99      0.89      0.94      1389\n",
      "           3       1.00      1.00      1.00      1389\n",
      "           4       0.90      0.98      0.94      1387\n",
      "           5       1.00      0.98      0.99      1390\n",
      "           6       0.99      0.99      0.99      1389\n",
      "           7       0.99      0.98      0.99      1389\n",
      "           8       0.98      1.00      0.99      1389\n",
      "           9       0.97      1.00      0.99      1389\n",
      "          10       0.99      0.96      0.97      1387\n",
      "          11       1.00      1.00      1.00      1390\n",
      "          12       1.00      1.00      1.00      1390\n",
      "          13       0.99      0.99      0.99      1390\n",
      "          14       1.00      1.00      1.00      1389\n",
      "          15       1.00      1.00      1.00      1389\n",
      "          16       1.00      1.00      1.00      1389\n",
      "          17       1.00      1.00      1.00      1389\n",
      "          18       1.00      1.00      1.00      1389\n",
      "          19       1.00      1.00      1.00      1388\n",
      "          20       1.00      0.98      0.99      1390\n",
      "          21       0.98      1.00      0.99      1389\n",
      "          22       0.99      0.98      0.98      1389\n",
      "          23       1.00      1.00      1.00      1389\n",
      "          24       1.00      1.00      1.00      1389\n",
      "          25       1.00      1.00      1.00      1389\n",
      "          26       1.00      1.00      1.00      1389\n",
      "          27       0.98      1.00      0.99      1389\n",
      "          28       0.99      1.00      1.00      1389\n",
      "          29       1.00      1.00      1.00      1389\n",
      "          30       1.00      0.99      1.00      1388\n",
      "\n",
      "    accuracy                           0.99     43057\n",
      "   macro avg       0.99      0.99      0.99     43057\n",
      "weighted avg       0.99      0.99      0.99     43057\n",
      "\n"
     ]
    }
   ],
   "source": [
    "test_predictions = HART.predict(test_reshaped_data)\n",
    "test_predictions = np.argmax(test_predictions, axis=1)\n",
    "\n",
    "print(classification_report(test_window_labels, test_predictions))\n"
   ]
  },
  {
   "cell_type": "code",
   "execution_count": null,
   "id": "410b74a5",
   "metadata": {},
   "outputs": [],
   "source": []
  },
  {
   "cell_type": "code",
   "execution_count": null,
   "id": "ac7481cf",
   "metadata": {},
   "outputs": [],
   "source": []
  },
  {
   "cell_type": "code",
   "execution_count": null,
   "id": "824c1cdd",
   "metadata": {},
   "outputs": [],
   "source": []
  },
  {
   "cell_type": "code",
   "execution_count": null,
   "id": "f77b8bd6",
   "metadata": {},
   "outputs": [],
   "source": []
  },
  {
   "cell_type": "code",
   "execution_count": null,
   "id": "d8938cd4-fdac-4125-929e-906548e2260d",
   "metadata": {},
   "outputs": [],
   "source": []
  }
 ],
 "metadata": {
  "kernelspec": {
   "display_name": "Python 3 (ipykernel)",
   "language": "python",
   "name": "python3"
  },
  "language_info": {
   "codemirror_mode": {
    "name": "ipython",
    "version": 3
   },
   "file_extension": ".py",
   "mimetype": "text/x-python",
   "name": "python",
   "nbconvert_exporter": "python",
   "pygments_lexer": "ipython3",
   "version": "3.9.7"
  }
 },
 "nbformat": 4,
 "nbformat_minor": 5
}
